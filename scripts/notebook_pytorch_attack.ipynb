{
 "cells": [
  {
   "cell_type": "code",
   "execution_count": 1,
   "metadata": {
    "collapsed": true,
    "pycharm": {
     "is_executing": false
    }
   },
   "outputs": [],
   "source": [
    "import numpy as np\n",
    "import torch\n",
    "import torch.optim as optim\n",
    "\n",
    "import torch.nn as nn\n",
    "import torch.nn.functional as F\n",
    "from torch.utils.data import Dataset, TensorDataset, DataLoader\n",
    "from torch.utils.data.dataset import random_split\n",
    "from tqdm import trange\n",
    "from tqdm.notebook import tnrange\n",
    "\n",
    "from sklearn import preprocessing\n",
    "import pandas as pd\n",
    "import os"
   ]
  },
  {
   "cell_type": "code",
   "execution_count": 2,
   "outputs": [],
   "source": [
    "device = 'cuda' if torch.cuda.is_available() else 'cpu'"
   ],
   "metadata": {
    "collapsed": false,
    "pycharm": {
     "name": "#%%\n",
     "is_executing": false
    }
   }
  },
  {
   "cell_type": "code",
   "execution_count": 3,
   "outputs": [],
   "source": [
    "def transform_dataset(df):\n",
    "    \"\"\"\n",
    "\n",
    "    :param df:\n",
    "    :return: Tuple of the transformed dataset and the labels Y and S\n",
    "    \"\"\"\n",
    "\n",
    "    df_binary = df[(df[\"race\"] == \"Caucasian\") | (df[\"race\"] == \"African-American\")]\n",
    "\n",
    "    del df_binary['c_jail_in']\n",
    "    del df_binary['c_jail_out']\n",
    "\n",
    "    ##separated class from the rests of the features\n",
    "    # remove unnecessary dimensions from Y -> only the decile_score remains\n",
    "    Y = df_binary['decile_score']    \n",
    "    del df_binary['decile_score']\n",
    "    Y_true = df_binary['two_year_recid']\n",
    "    del df_binary['two_year_recid']\n",
    "    del df_binary['score_text']\n",
    "\n",
    "    S = df_binary['race']\n",
    "    del df_binary['race']\n",
    "    del df_binary['is_recid']\n",
    "\n",
    "    # set sparse to False to return dense matrix after transformation and keep all dimensions homogeneous\n",
    "    encod = preprocessing.OneHotEncoder(sparse=False)\n",
    "    \n",
    "    data_to_encode = df_binary.to_numpy()\n",
    "    feat_to_encode = data_to_encode[:, 0]\n",
    "    # print(feat_to_encode)\n",
    "    # transposition\n",
    "    feat_to_encode = feat_to_encode.reshape(-1, 1)\n",
    "    # print(feat_to_encode)\n",
    "    encoded_feature = encod.fit_transform(feat_to_encode)\n",
    "\n",
    "    df_binary_encoded = pd.DataFrame(encoded_feature)\n",
    "\n",
    "    feat_to_encode = data_to_encode[:, 1]\n",
    "    feat_to_encode = feat_to_encode.reshape(-1, 1)\n",
    "    encoded_feature = encod.fit_transform(feat_to_encode)\n",
    "\n",
    "    df_encoded_feature = pd.DataFrame(encoded_feature)\n",
    "\n",
    "    df_binary_encoded = pd.concat([df_binary_encoded, pd.DataFrame(encoded_feature)], axis=1)\n",
    "\n",
    "    # feature [2] [3] [4] [5] [6] [7] [8] has to be put between 0 and 1\n",
    "\n",
    "    for i in range(2, 9):\n",
    "        encoded_feature = data_to_encode[:, i]\n",
    "        ma = np.amax(encoded_feature)\n",
    "        mi = np.amin(encoded_feature)\n",
    "        encoded_feature = (encoded_feature - mi) / (ma - mi)\n",
    "        df_binary_encoded = pd.concat([df_binary_encoded, pd.DataFrame(encoded_feature)], axis=1)\n",
    "\n",
    "    feat_to_encode = data_to_encode[:, 9]\n",
    "    feat_to_encode = feat_to_encode.reshape(-1, 1)\n",
    "    encoded_feature = encod.fit_transform(feat_to_encode)\n",
    "\n",
    "    df_encoded_feature = pd.DataFrame(encoded_feature)\n",
    "\n",
    "    df_binary_encoded = pd.concat([df_binary_encoded, pd.DataFrame(encoded_feature)], axis=1)\n",
    "\n",
    "    return df_binary_encoded, Y, S, Y_true\n"
   ],
   "metadata": {
    "collapsed": false,
    "pycharm": {
     "name": "#%%\n",
     "is_executing": false
    }
   }
  },
  {
   "cell_type": "code",
   "execution_count": 4,
   "outputs": [],
   "source": [
    "df = pd.read_csv(os.path.join(\"..\", \"data\", \"csv\", \"scikit\",\n",
    "                                  \"compas_recidive_two_years_sanitize_age_category_jail_time_decile_score.csv\"))\n",
    "\n",
    "df_binary, Y, S, Y_true = transform_dataset(df)\n",
    "\n",
    "#df_outcome = pd.DataFrame(np.array([S, Y]).T, columns=['race', 'true'])\n"
   ],
   "metadata": {
    "collapsed": false,
    "pycharm": {
     "name": "#%%\n",
     "is_executing": false
    }
   }
  },
  {
   "cell_type": "code",
   "execution_count": 5,
   "outputs": [],
   "source": [
    "x_tensor = torch.tensor(df_binary.to_numpy().astype(np.float32))\n",
    "y_tensor = torch.tensor(Y.to_numpy().reshape(-1,1).astype(np.float32))\n",
    "l_tensor = torch.tensor(Y_true.to_numpy().reshape(-1,1).astype(np.float32))\n",
    "s_tensor = torch.tensor(preprocessing.OneHotEncoder().fit_transform(np.array(S).reshape(-1, 1)).toarray())"
   ],
   "metadata": {
    "collapsed": false,
    "pycharm": {
     "name": "#%%\n",
     "is_executing": false
    }
   }
  },
  {
   "cell_type": "code",
   "execution_count": 6,
   "outputs": [],
   "source": [
    "class CustomDataset(Dataset):\n",
    "    def __init__(self, x_tensor, y_tensor, s_tensor):\n",
    "        self.x = x_tensor\n",
    "        self.y = y_tensor\n",
    "        self.s = s_tensor\n",
    "\n",
    "    def __getitem__(self, index):\n",
    "        return self.x[index], self.y[index], self.s[index]\n",
    "\n",
    "    def __len__(self):\n",
    "        return len(self.x)"
   ],
   "metadata": {
    "collapsed": false,
    "pycharm": {
     "name": "#%%\n",
     "is_executing": false
    }
   }
  },
  {
   "cell_type": "code",
   "execution_count": 7,
   "outputs": [],
   "source": [
    "dataset = TensorDataset(x_tensor, y_tensor, l_tensor, s_tensor) # dataset = CustomDataset(x_tensor, y_tensor)"
   ],
   "metadata": {
    "collapsed": false,
    "pycharm": {
     "name": "#%%\n",
     "is_executing": false
    }
   }
  },
  {
   "cell_type": "code",
   "execution_count": 8,
   "outputs": [],
   "source": [
    "base_size = len(dataset)//10\n",
    "split = [7*base_size,1*base_size, len(dataset)-8*base_size] # Train, validation, test"
   ],
   "metadata": {
    "collapsed": false,
    "pycharm": {
     "name": "#%%\n",
     "is_executing": false
    }
   }
  },
  {
   "cell_type": "code",
   "execution_count": 9,
   "outputs": [],
   "source": [
    "train_dataset, val_dataset, test_dataset = random_split(dataset, split)"
   ],
   "metadata": {
    "collapsed": false,
    "pycharm": {
     "name": "#%%\n",
     "is_executing": false
    }
   }
  },
  {
   "cell_type": "code",
   "execution_count": 10,
   "outputs": [],
   "source": [
    "train_loader = DataLoader(dataset=train_dataset, batch_size=128, shuffle=True)\n",
    "val_loader = DataLoader(dataset=val_dataset, batch_size=128)\n",
    "test_loader = DataLoader(dataset=test_dataset, batch_size=128)"
   ],
   "metadata": {
    "collapsed": false,
    "pycharm": {
     "name": "#%%\n",
     "is_executing": false
    }
   }
  },
  {
   "cell_type": "code",
   "execution_count": 11,
   "outputs": [],
   "source": [
    "from torch.autograd import Function\n",
    "\n",
    "class GradientReversalFunction(Function):\n",
    "    \"\"\"\n",
    "    Gradient Reversal Layer from:\n",
    "    Unsupervised Domain Adaptation by Backpropagation (Ganin & Lempitsky, 2015)\n",
    "    Forward pass is the identity function. In the backward pass,\n",
    "    the upstream gradients are multiplied by -lambda (i.e. gradient is reversed)\n",
    "    \"\"\"\n",
    "\n",
    "    @staticmethod\n",
    "    def forward(ctx, x, lambda_):\n",
    "        ctx.lambda_ = lambda_\n",
    "        return x.clone()\n",
    "\n",
    "    @staticmethod\n",
    "    def backward(ctx, grads):\n",
    "        lambda_ = ctx.lambda_\n",
    "        lambda_ = grads.new_tensor(lambda_)\n",
    "        dx = -lambda_ * grads\n",
    "        return dx, None\n",
    "\n",
    "\n",
    "class GradientReversal(torch.nn.Module):\n",
    "    def __init__(self, lambda_=1):\n",
    "        super(GradientReversal, self).__init__()\n",
    "        self.lambda_ = lambda_\n",
    "\n",
    "    def forward(self, x):\n",
    "        return GradientReversalFunction.apply(x, self.lambda_)"
   ],
   "metadata": {
    "collapsed": false,
    "pycharm": {
     "name": "#%%\n",
     "is_executing": false
    }
   }
  },
  {
   "cell_type": "code",
   "execution_count": 12,
   "outputs": [],
   "source": [
    "class Net(nn.Module):\n",
    "\n",
    "    def __init__(self):\n",
    "        super(Net, self).__init__()\n",
    "        # an affine operation: y = Wx + b\n",
    "        self.fc1 = nn.Linear(14, 64)\n",
    "        self.fc2 = nn.Linear(64, 64)\n",
    "        self.fc3 = nn.Linear(64, 1)\n",
    "        self.grl = GradientReversal(100)\n",
    "        self.fc4 = nn.Linear(64, 2)\n",
    "        \n",
    "        #self.grl = GradientReversal(100)\n",
    "\n",
    "    def forward(self, x):\n",
    "        x = self.fc1(x)\n",
    "        x = F.relu(x)\n",
    "        x = F.dropout(x, 0.1)\n",
    "        x = self.fc2(x)\n",
    "        x = F.relu(x)\n",
    "        hidden = F.dropout(x, 0.1)\n",
    "        y = self.fc3(hidden)\n",
    "        y = F.dropout(y, 0.1)\n",
    "        s = self.grl(hidden)\n",
    "        s = self.fc4(s)\n",
    "        #s = F.sigmoid(s)\n",
    "        s = F.dropout(s, 0.1)\n",
    "        return y,s"
   ],
   "metadata": {
    "collapsed": false,
    "pycharm": {
     "name": "#%%\n",
     "is_executing": false
    }
   }
  },
  {
   "cell_type": "code",
   "execution_count": 13,
   "outputs": [],
   "source": [
    "def make_train_step(model: Net, loss_fn, optimizer):\n",
    "    def _train_step(x, y):\n",
    "        optimizer.zero_grad()\n",
    "        yhat = model(x)\n",
    "        loss = loss_fn(y, yhat)\n",
    "        loss.backward()\n",
    "        optimizer.step()\n",
    "        return loss.item()\n",
    "    return _train_step"
   ],
   "metadata": {
    "collapsed": false,
    "pycharm": {
     "name": "#%%\n",
     "is_executing": false
    }
   }
  },
  {
   "cell_type": "code",
   "execution_count": 14,
   "outputs": [],
   "source": [
    "def weights_init_uniform_rule(m):\n",
    "        classname = m.__class__.__name__\n",
    "        # for every Linear layer in a model..\n",
    "        if classname.find('Linear') != -1:\n",
    "            # get the number of the inputs\n",
    "            n = m.in_features\n",
    "            y = 1.0/np.sqrt(n)\n",
    "            m.weight.data.uniform_(-y, y)\n",
    "            m.bias.data.fill_(0)\n",
    "            "
   ],
   "metadata": {
    "collapsed": false,
    "pycharm": {
     "name": "#%%\n",
     "is_executing": false
    }
   }
  },
  {
   "cell_type": "code",
   "execution_count": 15,
   "outputs": [],
   "source": [
    "torch.manual_seed(0)\n",
    "\n",
    "model = Net()\n",
    "criterion = nn.MSELoss()\n",
    "criterion_bias = nn.CrossEntropyLoss()\n",
    "optimizer =optim.Adagrad(model.parameters())\n",
    "\n",
    "n_epochs = 50\n",
    "training_losses = []\n",
    "validation_losses = []"
   ],
   "metadata": {
    "collapsed": false,
    "pycharm": {
     "name": "#%%\n",
     "is_executing": false
    }
   }
  },
  {
   "cell_type": "code",
   "execution_count": 16,
   "outputs": [
    {
     "name": "stderr",
     "text": [
      "Progress:   0%|          | 0/50 [00:00<?, ?it/s]"
     ],
     "output_type": "stream"
    },
    {
     "name": "stdout",
     "text": [
      "{'epoch': 0, 'training_loss': 16.807166790140087, 'validation_loss': 10.89204779362784}\n"
     ],
     "output_type": "stream"
    }
   ],
   "source": [
    "t_prog = trange(n_epochs, desc='Progress', leave=True)\n",
    "#t_prog = trange(50)\n",
    "\n",
    "for epoch in range(n_epochs):\n",
    "    model.train()\n",
    "\n",
    "    batch_losses = []\n",
    "    for x_batch, y_batch, _,s_batch in train_loader:\n",
    "        x_batch = x_batch.to(device)\n",
    "        y_batch = y_batch.to(device)\n",
    "        \n",
    "         # zero the parameter gradients\n",
    "        optimizer.zero_grad()\n",
    "\n",
    "        # forward + backward + optimize\n",
    "        outputs, outputs_protected = model(x_batch)\n",
    "        loss = criterion(outputs, y_batch) + criterion_bias(outputs_protected, s_batch.argmax(dim=1))\n",
    "        loss.backward()\n",
    "        optimizer.step()\n",
    "\n",
    "        batch_losses.append(loss.item())\n",
    "\n",
    "    training_loss = np.mean(batch_losses)\n",
    "    training_losses.append(training_loss)\n",
    "\n",
    "    with torch.no_grad():\n",
    "        val_losses = []\n",
    "        for x_val, y_val, _,s_val in val_loader:\n",
    "            x_val = x_val.to(device)\n",
    "            y_val = y_val.to(device)\n",
    "            model.eval()\n",
    "            yhat, s_hat = model(x_val)\n",
    "            val_loss = (criterion(y_val, yhat) + criterion_bias(s_val, s_hat.argmax(dim=1))).item()\n",
    "            val_losses.append(val_loss)\n",
    "        validation_loss = np.mean(val_losses)\n",
    "        validation_losses.append(validation_loss)\n",
    "    if epoch % 50 == 0:\n",
    "        print({\"epoch\": epoch, \"training_loss\": training_loss, \"validation_loss\": validation_loss})  # print last metrics"
   ],
   "metadata": {
    "collapsed": false,
    "pycharm": {
     "name": "#%%\n",
     "is_executing": false
    }
   }
  },
  {
   "cell_type": "code",
   "execution_count": 17,
   "outputs": [
    {
     "data": {
      "text/plain": "tensor(0.6321, grad_fn=<NllLossBackward>)"
     },
     "metadata": {},
     "output_type": "execute_result",
     "execution_count": 17
    }
   ],
   "source": [
    "criterion_bias(outputs_protected, s_batch.argmax(dim=1))"
   ],
   "metadata": {
    "collapsed": false,
    "pycharm": {
     "name": "#%%\n",
     "is_executing": false
    }
   }
  },
  {
   "cell_type": "code",
   "execution_count": 17,
   "outputs": [],
   "source": [],
   "metadata": {
    "collapsed": false,
    "pycharm": {
     "name": "#%%\n",
     "is_executing": false
    }
   }
  },
  {
   "cell_type": "code",
   "execution_count": 18,
   "outputs": [
    {
     "data": {
      "text/plain": "<Figure size 432x288 with 1 Axes>",
      "image/png": "[encoded data removed]"
     },
     "metadata": {
      "needs_background": "light"
     },
     "output_type": "display_data"
    }
   ],
   "source": [
    "import matplotlib.pyplot as plt\n",
    "\n",
    "plt.plot(range(len(training_losses)), training_losses)\n",
    "plt.plot(range(len(validation_losses)), validation_losses)\n",
    "#plt.scatter(x_tensor, y_out.detach().numpy())\n",
    "plt.ylabel('some numbers')\n",
    "plt.show()"
   ],
   "metadata": {
    "collapsed": false,
    "pycharm": {
     "name": "#%%\n",
     "is_executing": false
    }
   }
  },
  {
   "cell_type": "code",
   "execution_count": 19,
   "outputs": [
    {
     "name": "stdout",
     "text": [
      "torch.Size([128, 1])\n",
      "torch.Size([128, 1])\n",
      "torch.Size([128, 1])\n",
      "torch.Size([128, 1])\n",
      "torch.Size([128, 1])\n",
      "torch.Size([128, 1])\n",
      "torch.Size([128, 1])\n",
      "torch.Size([128, 1])\n",
      "torch.Size([38, 1])\n",
      "{'Test loss': 6.920967439573073}\n"
     ],
     "output_type": "stream"
    }
   ],
   "source": [
    "with torch.no_grad():\n",
    "    test_losses = []\n",
    "    test_results = []\n",
    "    for x_test, y_test, ytrue, s_true in test_loader:\n",
    "        x_test = x_test.to(device)\n",
    "        y_test = y_test.to(device)\n",
    "        model.eval()\n",
    "        yhat, s_hat = model(x_test)\n",
    "        print(yhat.shape)\n",
    "        test_loss = (criterion(y_test, yhat) + criterion_bias(s_true, s_hat.argmax(dim=1))).item()\n",
    "        test_losses.append(val_loss)\n",
    "        test_results.append({\"y_hat\": yhat, \"y_true\": ytrue, \"y_compas\": y_test, \"s\": s_true, \"s_hat\": s_hat})\n",
    "    print({\"Test loss\": np.mean(test_losses)})\n",
    " "
   ],
   "metadata": {
    "collapsed": false,
    "pycharm": {
     "name": "#%%\n",
     "is_executing": false
    }
   }
  },
  {
   "cell_type": "code",
   "execution_count": 20,
   "outputs": [
    {
     "name": "stdout",
     "text": [
      "torch.Size([256, 1])\n",
      "torch.Size([384, 1])\n",
      "torch.Size([512, 1])\n",
      "torch.Size([640, 1])\n",
      "torch.Size([768, 1])\n",
      "torch.Size([896, 1])\n",
      "torch.Size([1024, 1])\n",
      "torch.Size([1062, 1])\n"
     ],
     "output_type": "stream"
    }
   ],
   "source": [
    "results             = test_results[0]['y_hat']\n",
    "outcome             = test_results[0]['y_true']\n",
    "compas              = test_results[0]['y_compas']\n",
    "protected_results   = test_results[0]['s']\n",
    "protected              = test_results[0]['s_hat']\n",
    "for r in test_results[1:]:\n",
    "    results = torch.cat((results, r['y_hat']))\n",
    "    outcome = torch.cat((outcome, r['y_true']))\n",
    "    compas = torch.cat((compas, r['y_compas']))\n",
    "    protected_results = torch.cat((protected_results, r['s']))\n",
    "    protected = torch.cat((protected, r['s_hat']))\n",
    "    print(results.shape)\n",
    "   "
   ],
   "metadata": {
    "collapsed": false,
    "pycharm": {
     "name": "#%%\n",
     "is_executing": false
    }
   }
  },
  {
   "cell_type": "code",
   "execution_count": 19,
   "outputs": [],
   "source": [
    "                     "
   ],
   "metadata": {
    "collapsed": false,
    "pycharm": {
     "name": "#%%\n",
     "is_executing": false
    }
   }
  },
  {
   "cell_type": "code",
   "execution_count": 20,
   "outputs": [
    {
     "data": {
      "text/plain": "tensor(0.5395)"
     },
     "metadata": {},
     "output_type": "execute_result",
     "execution_count": 20
    }
   ],
   "source": [
    "((results[:,0] > 8) == outcome[:,0]).float().mean() "
   ],
   "metadata": {
    "collapsed": false,
    "pycharm": {
     "name": "#%%\n",
     "is_executing": false
    }
   }
  },
  {
   "cell_type": "code",
   "execution_count": 21,
   "outputs": [
    {
     "data": {
      "text/plain": "<Figure size 504x324 with 1 Axes>",
      "image/png": "[encoded data removed]"
     },
     "metadata": {
      "needs_background": "light"
     },
     "output_type": "display_data"
    }
   ],
   "source": [
    "from sklearn.metrics import roc_curve, auc, confusion_matrix\n",
    "\n",
    "\n",
    "\n",
    "fig = plt.figure()\n",
    "fig.set_size_inches(7,4.5)\n",
    "plt.style.use('seaborn-whitegrid')\n",
    "plt.title('ROC of recidivism score within a two-year follow-up')\n",
    "\n",
    "# debiased ROC\n",
    "false_positive_rate, true_positive_rate, thresholds = roc_curve(outcome[:,0], results[:,0])\n",
    "roc_auc = auc(false_positive_rate, true_positive_rate)\n",
    "plt.plot(false_positive_rate, true_positive_rate, \"-\",\n",
    "    label='Naive (AUC = %0.2f)'% roc_auc,  linewidth=3)\n",
    "\n",
    "plt.plot([0,1],[0,1],'--', linewidth=3)\n",
    "\n",
    "# debiased ROC\n",
    "false_positive_rate, true_positive_rate, thresholds = roc_curve(outcome[:,0], compas[:,0])\n",
    "roc_auc = auc(false_positive_rate, true_positive_rate)\n",
    "plt.plot(false_positive_rate, true_positive_rate, \"-o\",\n",
    "    label='COMPAS (AUC = %0.2f)'% roc_auc,  linewidth=3)\n",
    "\n",
    "\n",
    "\n",
    "# COMPAS ROC\n",
    "#false_positive_rate, true_positive_rate, thresholds = roc_curve(prediction['two_year_recid'], prediction['true'])\n",
    "#roc_auc = auc(false_positive_rate, true_positive_rate)\n",
    "#plt.plot(false_positive_rate, true_positive_rate, \"-o\",\n",
    "#label='COMPAS decile (AUC = %0.2f)'% roc_auc,  linewidth=3)\n",
    "\n",
    "plt.legend(loc='lower right')\n",
    "\n",
    "\n",
    "plt.xlim([0, 1])\n",
    "plt.ylim([0, 1])\n",
    "plt.ylabel('True Positive Rate')\n",
    "plt.xlabel('False Positive Rate')\n",
    "plt.tight_layout()\n",
    "plt.show()"
   ],
   "metadata": {
    "collapsed": false,
    "pycharm": {
     "name": "#%%\n",
     "is_executing": false
    }
   }
  },
  {
   "cell_type": "code",
   "execution_count": 22,
   "outputs": [
    {
     "data": {
      "text/plain": "<Figure size 504x324 with 1 Axes>",
      "image/png": "[encoded data removed]"
     },
     "metadata": {},
     "output_type": "display_data"
    }
   ],
   "source": [
    "from sklearn.metrics import roc_curve, auc, confusion_matrix\n",
    "\n",
    "\n",
    "\n",
    "fig = plt.figure()\n",
    "fig.set_size_inches(7,4.5)\n",
    "plt.style.use('seaborn-whitegrid')\n",
    "plt.title('ROC of recidivism score within a two-year follow-up')\n",
    "\n",
    "# debiased ROC\n",
    "false_positive_rate, true_positive_rate, thresholds = roc_curve(protected_results[:,0], protected[:,0])\n",
    "roc_auc = auc(false_positive_rate, true_positive_rate)\n",
    "plt.plot(false_positive_rate, true_positive_rate, \"-\",\n",
    "    label='Debiased (AUC = %0.2f)'% roc_auc,  linewidth=3)\n",
    "\n",
    "plt.plot([0,1],[0,1],'--', linewidth=3)\n",
    "\n",
    "# COMPAS ROC\n",
    "#false_positive_rate, true_positive_rate, thresholds = roc_curve(prediction['two_year_recid'], prediction['true'])\n",
    "#roc_auc = auc(false_positive_rate, true_positive_rate)\n",
    "#plt.plot(false_positive_rate, true_positive_rate, \"-o\",\n",
    "#label='COMPAS decile (AUC = %0.2f)'% roc_auc,  linewidth=3)\n",
    "\n",
    "plt.legend(loc='lower right')\n",
    "\n",
    "\n",
    "plt.xlim([0, 1])\n",
    "plt.ylim([0, 1])\n",
    "plt.ylabel('True Positive Rate')\n",
    "plt.xlabel('False Positive Rate')\n",
    "plt.tight_layout()\n",
    "plt.show()\n",
    "#fig.savefig(\"roc_curve.png\", dpi=300,  transparent=True)"
   ],
   "metadata": {
    "collapsed": false,
    "pycharm": {
     "name": "#%%\n",
     "is_executing": false
    }
   }
  },
  {
   "cell_type": "code",
   "execution_count": 23,
   "outputs": [
    {
     "data": {
      "text/plain": "tensor([-0.1607, -0.0892,  0.0384,  ...,  0.1839, -0.2070,  0.1104])"
     },
     "metadata": {},
     "output_type": "execute_result",
     "execution_count": 23
    }
   ],
   "source": [
    "protected[:,0]"
   ],
   "metadata": {
    "collapsed": false,
    "pycharm": {
     "name": "#%%\n",
     "is_executing": false
    }
   }
  },
  {
   "cell_type": "code",
   "execution_count": 24,
   "outputs": [
    {
     "name": "stderr",
     "text": [
      "/Users/pieter/.local/share/virtualenvs/ethicsML-IsNwXYYM/lib/python3.7/site-packages/torch/nn/modules/loss.py:431: UserWarning: Using a target size (torch.Size([15, 1])) that is different to the input size (torch.Size([38, 1])). This will likely lead to incorrect results due to broadcasting. Please ensure they have the same size.\n  return F.mse_loss(input, target, reduction=self.reduction)\n"
     ],
     "output_type": "stream"
    },
    {
     "traceback": [
      "\u001b[0;31m---------------------------------------------------------------------------\u001b[0m",
      "\u001b[0;31mRuntimeError\u001b[0m                              Traceback (most recent call last)",
      "\u001b[0;32m<ipython-input-24-b84502117429>\u001b[0m in \u001b[0;36m<module>\u001b[0;34m\u001b[0m\n\u001b[0;32m----> 1\u001b[0;31m \u001b[0mcriterion\u001b[0m\u001b[0;34m(\u001b[0m\u001b[0myhat\u001b[0m\u001b[0;34m,\u001b[0m \u001b[0my_val\u001b[0m\u001b[0;34m)\u001b[0m\u001b[0;34m\u001b[0m\u001b[0;34m\u001b[0m\u001b[0m\n\u001b[0m\u001b[1;32m      2\u001b[0m \u001b[0;34m\u001b[0m\u001b[0m\n",
      "\u001b[0;32m~/.local/share/virtualenvs/ethicsML-IsNwXYYM/lib/python3.7/site-packages/torch/nn/modules/module.py\u001b[0m in \u001b[0;36m__call__\u001b[0;34m(self, *input, **kwargs)\u001b[0m\n\u001b[1;32m    530\u001b[0m             \u001b[0mresult\u001b[0m \u001b[0;34m=\u001b[0m \u001b[0mself\u001b[0m\u001b[0;34m.\u001b[0m\u001b[0m_slow_forward\u001b[0m\u001b[0;34m(\u001b[0m\u001b[0;34m*\u001b[0m\u001b[0minput\u001b[0m\u001b[0;34m,\u001b[0m \u001b[0;34m**\u001b[0m\u001b[0mkwargs\u001b[0m\u001b[0;34m)\u001b[0m\u001b[0;34m\u001b[0m\u001b[0;34m\u001b[0m\u001b[0m\n\u001b[1;32m    531\u001b[0m         \u001b[0;32melse\u001b[0m\u001b[0;34m:\u001b[0m\u001b[0;34m\u001b[0m\u001b[0;34m\u001b[0m\u001b[0m\n\u001b[0;32m--> 532\u001b[0;31m             \u001b[0mresult\u001b[0m \u001b[0;34m=\u001b[0m \u001b[0mself\u001b[0m\u001b[0;34m.\u001b[0m\u001b[0mforward\u001b[0m\u001b[0;34m(\u001b[0m\u001b[0;34m*\u001b[0m\u001b[0minput\u001b[0m\u001b[0;34m,\u001b[0m \u001b[0;34m**\u001b[0m\u001b[0mkwargs\u001b[0m\u001b[0;34m)\u001b[0m\u001b[0;34m\u001b[0m\u001b[0;34m\u001b[0m\u001b[0m\n\u001b[0m\u001b[1;32m    533\u001b[0m         \u001b[0;32mfor\u001b[0m \u001b[0mhook\u001b[0m \u001b[0;32min\u001b[0m \u001b[0mself\u001b[0m\u001b[0;34m.\u001b[0m\u001b[0m_forward_hooks\u001b[0m\u001b[0;34m.\u001b[0m\u001b[0mvalues\u001b[0m\u001b[0;34m(\u001b[0m\u001b[0;34m)\u001b[0m\u001b[0;34m:\u001b[0m\u001b[0;34m\u001b[0m\u001b[0;34m\u001b[0m\u001b[0m\n\u001b[1;32m    534\u001b[0m             \u001b[0mhook_result\u001b[0m \u001b[0;34m=\u001b[0m \u001b[0mhook\u001b[0m\u001b[0;34m(\u001b[0m\u001b[0mself\u001b[0m\u001b[0;34m,\u001b[0m \u001b[0minput\u001b[0m\u001b[0;34m,\u001b[0m \u001b[0mresult\u001b[0m\u001b[0;34m)\u001b[0m\u001b[0;34m\u001b[0m\u001b[0;34m\u001b[0m\u001b[0m\n",
      "\u001b[0;32m~/.local/share/virtualenvs/ethicsML-IsNwXYYM/lib/python3.7/site-packages/torch/nn/modules/loss.py\u001b[0m in \u001b[0;36mforward\u001b[0;34m(self, input, target)\u001b[0m\n\u001b[1;32m    429\u001b[0m \u001b[0;34m\u001b[0m\u001b[0m\n\u001b[1;32m    430\u001b[0m     \u001b[0;32mdef\u001b[0m \u001b[0mforward\u001b[0m\u001b[0;34m(\u001b[0m\u001b[0mself\u001b[0m\u001b[0;34m,\u001b[0m \u001b[0minput\u001b[0m\u001b[0;34m,\u001b[0m \u001b[0mtarget\u001b[0m\u001b[0;34m)\u001b[0m\u001b[0;34m:\u001b[0m\u001b[0;34m\u001b[0m\u001b[0;34m\u001b[0m\u001b[0m\n\u001b[0;32m--> 431\u001b[0;31m         \u001b[0;32mreturn\u001b[0m \u001b[0mF\u001b[0m\u001b[0;34m.\u001b[0m\u001b[0mmse_loss\u001b[0m\u001b[0;34m(\u001b[0m\u001b[0minput\u001b[0m\u001b[0;34m,\u001b[0m \u001b[0mtarget\u001b[0m\u001b[0;34m,\u001b[0m \u001b[0mreduction\u001b[0m\u001b[0;34m=\u001b[0m\u001b[0mself\u001b[0m\u001b[0;34m.\u001b[0m\u001b[0mreduction\u001b[0m\u001b[0;34m)\u001b[0m\u001b[0;34m\u001b[0m\u001b[0;34m\u001b[0m\u001b[0m\n\u001b[0m\u001b[1;32m    432\u001b[0m \u001b[0;34m\u001b[0m\u001b[0m\n\u001b[1;32m    433\u001b[0m \u001b[0;34m\u001b[0m\u001b[0m\n",
      "\u001b[0;32m~/.local/share/virtualenvs/ethicsML-IsNwXYYM/lib/python3.7/site-packages/torch/nn/functional.py\u001b[0m in \u001b[0;36mmse_loss\u001b[0;34m(input, target, size_average, reduce, reduction)\u001b[0m\n\u001b[1;32m   2213\u001b[0m             \u001b[0mret\u001b[0m \u001b[0;34m=\u001b[0m \u001b[0mtorch\u001b[0m\u001b[0;34m.\u001b[0m\u001b[0mmean\u001b[0m\u001b[0;34m(\u001b[0m\u001b[0mret\u001b[0m\u001b[0;34m)\u001b[0m \u001b[0;32mif\u001b[0m \u001b[0mreduction\u001b[0m \u001b[0;34m==\u001b[0m \u001b[0;34m'mean'\u001b[0m \u001b[0;32melse\u001b[0m \u001b[0mtorch\u001b[0m\u001b[0;34m.\u001b[0m\u001b[0msum\u001b[0m\u001b[0;34m(\u001b[0m\u001b[0mret\u001b[0m\u001b[0;34m)\u001b[0m\u001b[0;34m\u001b[0m\u001b[0;34m\u001b[0m\u001b[0m\n\u001b[1;32m   2214\u001b[0m     \u001b[0;32melse\u001b[0m\u001b[0;34m:\u001b[0m\u001b[0;34m\u001b[0m\u001b[0;34m\u001b[0m\u001b[0m\n\u001b[0;32m-> 2215\u001b[0;31m         \u001b[0mexpanded_input\u001b[0m\u001b[0;34m,\u001b[0m \u001b[0mexpanded_target\u001b[0m \u001b[0;34m=\u001b[0m \u001b[0mtorch\u001b[0m\u001b[0;34m.\u001b[0m\u001b[0mbroadcast_tensors\u001b[0m\u001b[0;34m(\u001b[0m\u001b[0minput\u001b[0m\u001b[0;34m,\u001b[0m \u001b[0mtarget\u001b[0m\u001b[0;34m)\u001b[0m\u001b[0;34m\u001b[0m\u001b[0;34m\u001b[0m\u001b[0m\n\u001b[0m\u001b[1;32m   2216\u001b[0m         \u001b[0mret\u001b[0m \u001b[0;34m=\u001b[0m \u001b[0mtorch\u001b[0m\u001b[0;34m.\u001b[0m\u001b[0m_C\u001b[0m\u001b[0;34m.\u001b[0m\u001b[0m_nn\u001b[0m\u001b[0;34m.\u001b[0m\u001b[0mmse_loss\u001b[0m\u001b[0;34m(\u001b[0m\u001b[0mexpanded_input\u001b[0m\u001b[0;34m,\u001b[0m \u001b[0mexpanded_target\u001b[0m\u001b[0;34m,\u001b[0m \u001b[0m_Reduction\u001b[0m\u001b[0;34m.\u001b[0m\u001b[0mget_enum\u001b[0m\u001b[0;34m(\u001b[0m\u001b[0mreduction\u001b[0m\u001b[0;34m)\u001b[0m\u001b[0;34m)\u001b[0m\u001b[0;34m\u001b[0m\u001b[0;34m\u001b[0m\u001b[0m\n\u001b[1;32m   2217\u001b[0m     \u001b[0;32mreturn\u001b[0m \u001b[0mret\u001b[0m\u001b[0;34m\u001b[0m\u001b[0;34m\u001b[0m\u001b[0m\n",
      "\u001b[0;32m~/.local/share/virtualenvs/ethicsML-IsNwXYYM/lib/python3.7/site-packages/torch/functional.py\u001b[0m in \u001b[0;36mbroadcast_tensors\u001b[0;34m(*tensors)\u001b[0m\n\u001b[1;32m     50\u001b[0m                 [0, 1, 2]])\n\u001b[1;32m     51\u001b[0m     \"\"\"\n\u001b[0;32m---> 52\u001b[0;31m     \u001b[0;32mreturn\u001b[0m \u001b[0mtorch\u001b[0m\u001b[0;34m.\u001b[0m\u001b[0m_C\u001b[0m\u001b[0;34m.\u001b[0m\u001b[0m_VariableFunctions\u001b[0m\u001b[0;34m.\u001b[0m\u001b[0mbroadcast_tensors\u001b[0m\u001b[0;34m(\u001b[0m\u001b[0mtensors\u001b[0m\u001b[0;34m)\u001b[0m\u001b[0;34m\u001b[0m\u001b[0;34m\u001b[0m\u001b[0m\n\u001b[0m\u001b[1;32m     53\u001b[0m \u001b[0;34m\u001b[0m\u001b[0m\n\u001b[1;32m     54\u001b[0m \u001b[0;34m\u001b[0m\u001b[0m\n",
      "\u001b[0;31mRuntimeError\u001b[0m: The size of tensor a (38) must match the size of tensor b (15) at non-singleton dimension 0"
     ],
     "ename": "RuntimeError",
     "evalue": "The size of tensor a (38) must match the size of tensor b (15) at non-singleton dimension 0",
     "output_type": "error"
    }
   ],
   "source": [
    "criterion(yhat, y_val)"
   ],
   "metadata": {
    "collapsed": false,
    "pycharm": {
     "name": "#%%\n",
     "is_executing": false
    }
   }
  },
  {
   "cell_type": "code",
   "execution_count": null,
   "outputs": [],
   "source": [
    "x = np.random.rand(100, 1)\n",
    "true_a, true_b = 1, 2\n",
    "y = true_a + true_b*x + 0.1*np.random.randn(100, 1)\n",
    "\n",
    "x_tensor = torch.from_numpy(x).float()\n",
    "y_tensor = torch.from_numpy(y).float()\n",
    "y_out = model(x_tensor.to(device))"
   ],
   "metadata": {
    "collapsed": false,
    "pycharm": {
     "name": "#%%\n",
     "is_executing": false
    }
   }
  },
  {
   "cell_type": "code",
   "execution_count": null,
   "outputs": [],
   "source": [
    "x_val = x_val.to(device)\n",
    "y_val = y_val.to(device)\n",
    "model.eval()\n",
    "yhat = model(x_val)\n",
    "val_loss = loss_fn(y_val, yhat).item()\n",
    "\n"
   ],
   "metadata": {
    "collapsed": false,
    "pycharm": {
     "name": "#%%\n",
     "is_executing": false
    }
   }
  },
  {
   "cell_type": "code",
   "execution_count": null,
   "outputs": [],
   "source": [
    "np.power(y_val - yhat, 2).mean()"
   ],
   "metadata": {
    "collapsed": false,
    "pycharm": {
     "name": "#%%\n",
     "is_executing": false
    }
   }
  },
  {
   "cell_type": "code",
   "execution_count": null,
   "outputs": [],
   "source": [],
   "metadata": {
    "collapsed": false,
    "pycharm": {
     "name": "#%%\n",
     "is_executing": false
    }
   }
  },
  {
   "cell_type": "code",
   "execution_count": null,
   "outputs": [],
   "source": [],
   "metadata": {
    "collapsed": false,
    "pycharm": {
     "name": "#%%\n",
     "is_executing": false
    }
   }
  },
  {
   "cell_type": "code",
   "execution_count": null,
   "outputs": [],
   "source": [],
   "metadata": {
    "collapsed": false,
    "pycharm": {
     "name": "#%%\n",
     "is_executing": false
    }
   }
  },
  {
   "cell_type": "code",
   "execution_count": null,
   "outputs": [],
   "source": [],
   "metadata": {
    "collapsed": false,
    "pycharm": {
     "name": "#%%\n",
     "is_executing": false
    }
   }
  },
  {
   "cell_type": "code",
   "execution_count": null,
   "outputs": [],
   "source": [
    "from sklearn import tree\n",
    "\n",
    "tree.ExtraTreeRegressor().fit(x_tensor[:3000], y_tensor[:3000]).predict(x_val)"
   ],
   "metadata": {
    "collapsed": false,
    "pycharm": {
     "name": "#%%\n",
     "is_executing": false
    }
   }
  },
  {
   "cell_type": "code",
   "execution_count": null,
   "outputs": [],
   "source": [
    "y_val\n",
    "\n"
   ],
   "metadata": {
    "collapsed": false,
    "pycharm": {
     "name": "#%%\n",
     "is_executing": false
    }
   }
  },
  {
   "cell_type": "code",
   "execution_count": 25,
   "outputs": [],
   "source": [
    "from secml.ml.classifiers import CClassifier, CClassifierDNN\n",
    "from secml.array import CArray"
   ],
   "metadata": {
    "collapsed": false,
    "pycharm": {
     "name": "#%%\n",
     "is_executing": false
    }
   }
  },
  {
   "cell_type": "code",
   "execution_count": 26,
   "outputs": [],
   "source": [
    "def loss_fn(ys_true, ys_hat):\n",
    "    y_true = ys_true[0]\n",
    "    s_true = ys_true[1]\n",
    "    y_hat = ys_hat[0]\n",
    "    s_hat = ys_hat[1]\n",
    "    \n",
    "    criterion(y_true, y_hat) + criterion_bias(s_true, s_hat.argmax(dim=1))"
   ],
   "metadata": {
    "collapsed": false,
    "pycharm": {
     "name": "#%%\n",
     "is_executing": false
    }
   }
  },
  {
   "cell_type": "code",
   "execution_count": 37,
   "outputs": [],
   "source": [
    "grl = GradientReversalClassifier(model, \n",
    "                   loss=loss_fn, \n",
    "                    optimizer=optimizer)"
   ],
   "metadata": {
    "collapsed": false,
    "pycharm": {
     "name": "#%%\n",
     "is_executing": false
    }
   }
  },
  {
   "cell_type": "code",
   "execution_count": 38,
   "outputs": [],
   "source": [
    "# manually set it to trained\n",
    "grl._trained = True"
   ],
   "metadata": {
    "collapsed": false,
    "pycharm": {
     "name": "#%%\n",
     "is_executing": false
    }
   }
  },
  {
   "cell_type": "code",
   "execution_count": 39,
   "outputs": [
    {
     "data": {
      "text/plain": "GradientReversalClassifier{'classes': None, 'n_features': None, 'preprocess': None, 'model': Net(\n  (fc1): Linear(in_features=14, out_features=64, bias=True)\n  (fc2): Linear(in_features=64, out_features=64, bias=True)\n  (fc3): Linear(in_features=64, out_features=1, bias=True)\n  (grl): GradientReversal()\n  (fc4): Linear(in_features=64, out_features=2, bias=True)\n), 'trained': True, 'input_shape': (14,), 'softmax_outputs': False, 'loss': <function loss_fn at 0x136ac2680>, 'optimizer': Adagrad (\nParameter Group 0\n    eps: 1e-10\n    initial_accumulator_value: 0\n    lr: 0.01\n    lr_decay: 0\n    weight_decay: 0\n), 'epochs': 10, 'batch_size': 1}"
     },
     "metadata": {},
     "output_type": "execute_result",
     "execution_count": 39
    }
   ],
   "source": [
    "grl"
   ],
   "metadata": {
    "collapsed": false,
    "pycharm": {
     "name": "#%%\n",
     "is_executing": false
    }
   }
  },
  {
   "cell_type": "code",
   "execution_count": 27,
   "outputs": [],
   "source": [
    "from secml.settings import SECML_PYTORCH_USE_CUDA\n",
    "\n",
    "use_cuda = torch.cuda.is_available() and SECML_PYTORCH_USE_CUDA\n",
    "\n",
    "\n",
    "def get_layers(net):\n",
    "    # TODO remove when dropping support for python 2\n",
    "    layers = list()\n",
    "    for name, layer in net._modules.items():\n",
    "        # If it is a sequential, don't return its name\n",
    "        # but recursively register all it's module children\n",
    "        if isinstance(layer, nn.Sequential) or isinstance(layer, BasicBlock):\n",
    "            layers += [(\":\".join([name, l]), m) for (l, m) in\n",
    "                       get_layers(layer)]\n",
    "        else:\n",
    "            layers.append((name, layer))\n",
    "    else:\n",
    "        return layers\n",
    "\n",
    "class GradientReversalClassifier(CClassifierDNN):\n",
    "    \"\"\"CClassifierPyTorch, wrapper for PyTorch models.\n",
    "\n",
    "    Parameters\n",
    "    ----------\n",
    "    model:\n",
    "        `torch.nn.Module` object to use as classifier\n",
    "    loss:\n",
    "        loss object from `torch.nn`\n",
    "    optimizer:\n",
    "        optimizer object from `torch.optim`\n",
    "\n",
    "    random_state: int or None, optional\n",
    "        random state to use for initializing the model weights.\n",
    "        Default value is None.\n",
    "    preprocess:\n",
    "        preprocessing module.\n",
    "    softmax_outputs: bool, optional\n",
    "        if set to True, a softmax function will be applied to\n",
    "        the return value of the decision function. Note: some\n",
    "        implementation adds the softmax function to the network\n",
    "        class as last layer or last forward function, or even in the\n",
    "        loss function (see torch.nn.CrossEntropyLoss). Be aware that the\n",
    "        softmax may have already been applied.\n",
    "        Default value is False.\n",
    "    epochs: int\n",
    "        number of epochs for training the neural network. Default value is 10.\n",
    "    batch_size: int\n",
    "        size of the batches to use for loading the data. Default value is 1.\n",
    "    n_jobs: int\n",
    "        number of workers to use for data loading and processing. Default value is 1.\n",
    "\n",
    "    Attributes\n",
    "    ----------\n",
    "    class_type : 'pytorch-clf'\n",
    "\n",
    "    \"\"\"\n",
    "    __class_type = 'pytorch-clf'\n",
    "\n",
    "    def __init__(self, model, loss=None, optimizer=None,\n",
    "                 input_shape=None,\n",
    "                 random_state=None, preprocess=None,\n",
    "                 softmax_outputs=False,\n",
    "                 epochs=10, batch_size=1, n_jobs=1):\n",
    "\n",
    "        self._device = self._set_device()\n",
    "        self._random_state = random_state\n",
    "        super(GradientReversalClassifier, self).__init__(model=model,\n",
    "                                                 preprocess=preprocess,\n",
    "                                                 input_shape=input_shape,\n",
    "                                                 softmax_outputs=softmax_outputs)\n",
    "        self._init_model()\n",
    "\n",
    "        if self._input_shape is None:\n",
    "            # try to infer from first layer\n",
    "            first_layer = list(self._model._modules.values())[0]\n",
    "            if isinstance(first_layer, torch.nn.Linear):\n",
    "                self._input_shape = (first_layer.in_features,)\n",
    "            else:\n",
    "                raise ValueError(\n",
    "                    \"Input shape should be specified if the first \"\n",
    "                    \"layer is not a `nn.Linear` module.\")\n",
    "\n",
    "        # check softmax redundancy\n",
    "        if isinstance(loss, nn.CrossEntropyLoss) and self.check_softmax():\n",
    "            raise ValueError(\"Please remove softmax redundancy. Either \"\n",
    "                             \"use `torch.nn.NLLLoss` or remove softmax \"\n",
    "                             \"layer from the network.\")\n",
    "\n",
    "        self._loss = loss\n",
    "        self._optimizer = optimizer\n",
    "\n",
    "        if self._optimizer is not None:\n",
    "            # check softmax redundancy\n",
    "            if self.check_softmax() and softmax_outputs:\n",
    "                self.logger.warning(\n",
    "                    \"Softmax layer has been defined in the network. Disabling \"\n",
    "                    \"parameter softmax_outputs.\")\n",
    "                self._softmax_outputs = False\n",
    "            else:\n",
    "                self._softmax_outputs = softmax_outputs\n",
    "        else:\n",
    "            self._softmax_outputs = False\n",
    "\n",
    "        self._epochs = epochs\n",
    "        self._batch_size = batch_size\n",
    "\n",
    "        if self._batch_size is None:\n",
    "            self.logger.info(\n",
    "                \"No batch size passed. Value will be set to the default \"\n",
    "                \"value of 1.\")\n",
    "            self._batch_size = 1\n",
    "\n",
    "        self._n_jobs = n_jobs\n",
    "\n",
    "        # hooks for getting intermediate outputs\n",
    "        self._handlers = []\n",
    "        # will store intermediate outputs from the hooks\n",
    "        self._intermediate_outputs = None\n",
    "        self._cached_s = None\n",
    "        self._cached_layer_output = None\n",
    "\n",
    "    @property\n",
    "    def loss(self):\n",
    "        \"\"\"Returns the loss function used by classifier.\"\"\"\n",
    "        return self._loss\n",
    "\n",
    "    @property\n",
    "    def model(self):\n",
    "        \"\"\"Returns the model used by classifier.\"\"\"\n",
    "        return self._model\n",
    "\n",
    "    @property\n",
    "    def optimizer(self):\n",
    "        \"\"\"Returns the optimizer used by classifier.\"\"\"\n",
    "        return self._optimizer\n",
    "\n",
    "    @property\n",
    "    def epochs(self):\n",
    "        \"\"\"Returns the number of epochs for which the model\n",
    "        will be trained.\"\"\"\n",
    "        return self._epochs\n",
    "\n",
    "    @property\n",
    "    def batch_size(self):\n",
    "        \"\"\"Returns the batch size used for the dataset loader.\"\"\"\n",
    "        return self._batch_size\n",
    "\n",
    "    @property\n",
    "    def layers(self):\n",
    "        \"\"\"Returns the layers of the model, if possible. \"\"\"\n",
    "        if self._model_layers is None:\n",
    "            if isinstance(self._model, nn.Module):\n",
    "                self._model_layers = get_layers(self._model)\n",
    "            else:\n",
    "                raise TypeError(\n",
    "                    \"The input model must be an instance of `nn.Module`.\")\n",
    "        return self._model_layers\n",
    "\n",
    "    @property\n",
    "    def layer_shapes(self):\n",
    "        if self._model_layer_shapes is None:\n",
    "            self._model_layer_shapes = {}\n",
    "            layer_names = self.layer_names\n",
    "            self.hook_layer_output(layer_names)\n",
    "            x = torch.randn(size=self.input_shape).unsqueeze(0)\n",
    "            x = x.to(self._device)\n",
    "            self._model(x)\n",
    "            for layer_name, layer in self.layers:\n",
    "                self._model_layer_shapes[layer_name] = tuple(\n",
    "                    self._intermediate_outputs[layer].shape)\n",
    "            self._clean_hooks()\n",
    "        return self._model_layer_shapes\n",
    "\n",
    "    @property\n",
    "    def trained(self):\n",
    "        \"\"\"True if the model has been trained.\"\"\"\n",
    "        return self._trained\n",
    "\n",
    "    def get_layer_shape(self, layer_name):\n",
    "        return self.layer_shapes[layer_name]\n",
    "\n",
    "\n",
    "    def _clean_hooks(self):\n",
    "        \"\"\"Removes previously defined hooks.\"\"\"\n",
    "        for handler in self._handlers:\n",
    "            handler.remove()\n",
    "        self._intermediate_outputs = None\n",
    "\n",
    "    def _hook_forward(self, module_name, input, output):\n",
    "        \"\"\"Hooks the module's `forward` method so that it stores\n",
    "        the intermediate outputs as tensors.\"\"\"\n",
    "\n",
    "        self._intermediate_outputs[module_name] = output\n",
    "\n",
    "    def hook_layer_output(self, layer_names=None):\n",
    "        \"\"\"\n",
    "        Creates handlers for the hooks that store the layer outputs.\n",
    "\n",
    "        Parameters\n",
    "        ----------\n",
    "        layer_names : list or str, optional\n",
    "            List of layer names to hook. Cleans previously\n",
    "            defined hooks to prevent multiple hook creations.\n",
    "\n",
    "        \"\"\"\n",
    "        if isinstance(layer_names, str):\n",
    "            layer_names = [layer_names]\n",
    "\n",
    "        self._clean_hooks()\n",
    "        self._handlers = []\n",
    "        self._intermediate_outputs = {}\n",
    "\n",
    "        for name, layer in get_layers(self._model):\n",
    "            if name in layer_names:\n",
    "                self._handlers.append(\n",
    "                    layer.register_forward_hook(self._hook_forward))\n",
    "            else:\n",
    "                pass\n",
    "\n",
    "\n",
    "    def _set_device(self):\n",
    "        return torch.device(\"cuda\" if use_cuda else \"cpu\")\n",
    "\n",
    "    def n_jobs(self):\n",
    "        \"\"\"Returns the number of workers being used for loading\n",
    "        and processing the data.\"\"\"\n",
    "        return self._n_jobs\n",
    "\n",
    "\n",
    "    def get_params(self):\n",
    "        \"\"\"Returns the dictionary of class parameters.\"\"\"\n",
    "        loss_params = {'loss': self._loss}\n",
    "        optim_params = {\n",
    "            'optimizer': self._optimizer.state_dict()['param_groups'][0]\n",
    "            if self._optimizer is not None else None\n",
    "        }\n",
    "        return SubLevelsDict(\n",
    "            merge_dicts(super(GradientReversalClassifier, self).get_params(),\n",
    "                        loss_params, optim_params))\n",
    "\n",
    "\n",
    "    def get_state(self):\n",
    "        \"\"\"Returns the object state dictionary.\"\"\"\n",
    "        from copy import deepcopy\n",
    "\n",
    "        # State of the wrapping classifier\n",
    "        state = super(GradientReversalClassifier, self).get_state()\n",
    "\n",
    "        # Map model and optimizer to CPU before saving\n",
    "        self._model.to(torch.device('cpu'))\n",
    "\n",
    "        # Unfortunately optimizer does not have a 'to(device)' method\n",
    "        for opt_state in self._optimizer.state.values():\n",
    "            for k, v in opt_state.items():\n",
    "                if isinstance(v, torch.Tensor):\n",
    "                    opt_state[k] = v.to('cpu')\n",
    "\n",
    "        # Use deepcopy as restoring device later will change them\n",
    "        state['model'] = deepcopy(self._model.state_dict())\n",
    "        state['optimizer'] = deepcopy(self._optimizer.state_dict())\n",
    "\n",
    "        # Restore device and optimizer\n",
    "        self._model.to(self._device)\n",
    "\n",
    "        # Unfortunately optimizer does not have a 'to(device)' method\n",
    "        for opt_state in self._optimizer.state.values():\n",
    "            for k, v in opt_state.items():\n",
    "                if isinstance(v, torch.Tensor):\n",
    "                    opt_state[k] = v.to(self._device)\n",
    "\n",
    "        return state\n",
    "\n",
    "\n",
    "    def set_state(self, state_dict, copy=False):\n",
    "        \"\"\"Sets the object state using input dictionary.\"\"\"\n",
    "        # TODO: DEEPCOPY FOR torch.load_state_dict?\n",
    "        self._model.load_state_dict(state_dict.pop('model'))\n",
    "        self._optimizer.load_state_dict(state_dict.pop('optimizer'))\n",
    "        super(GradientReversalClassifier, self).set_state(state_dict, copy=copy)\n",
    "\n",
    "\n",
    "    def check_softmax(self):\n",
    "        \"\"\"\n",
    "        Checks if a softmax layer has been defined in the\n",
    "        network.\n",
    "\n",
    "        Returns\n",
    "        -------\n",
    "        Boolean value stating if a softmax layer has been\n",
    "        defined.\n",
    "        \"\"\"\n",
    "        x = torch.ones(tuple([1] + list(self.input_shape)))\n",
    "        x = x.to(self._device)\n",
    "\n",
    "        outputs = self._model(x)[0]\n",
    "\n",
    "        if outputs.sum() == 1:\n",
    "            return True\n",
    "        return False\n",
    "\n",
    "\n",
    "    def __getattribute__(self, key):\n",
    "        \"\"\"Get an attribute.\n",
    "\n",
    "        This allows getting also attributes of the internal PyTorch model,\n",
    "        loss and optimizer.\"\"\"\n",
    "        try:\n",
    "            # If we are not getting the model itself\n",
    "            if key not in ['_model', '_optimizer']:\n",
    "                if hasattr(self, '_model') and key in self._model._modules:\n",
    "                    return self._model[key]\n",
    "                elif hasattr(self, '_optimizer') and \\\n",
    "                        self._optimizer is not None and \\\n",
    "                        key in self._optimizer.state_dict()['param_groups'][0]:\n",
    "                    if len(self._optimizer.state_dict()['param_groups']) == 1:\n",
    "                        return self._optimizer.param_groups[0][key]\n",
    "                    else:\n",
    "                        raise NotImplementedError(\n",
    "                            \"__getattribute__ is not yet \"\n",
    "                            \"supported for optimizers with \"\n",
    "                            \"more than one element in \"\n",
    "                            \"param_groups.\")\n",
    "        except KeyError:\n",
    "            pass  # Parameter not found in PyTorch model\n",
    "            # Try to get the parameter from self\n",
    "        return super(GradientReversalClassifier, self).__getattribute__(key)\n",
    "\n",
    "    def __setattr__(self, key, value):\n",
    "        \"\"\"Set an attribute.\n",
    "\n",
    "        This allow setting also the attributes of the internal PyTorch model.\n",
    "\n",
    "        \"\"\"\n",
    "        if isinstance(value, (torch.Tensor, torch.nn.Module)):\n",
    "            value = value.to(self._device)\n",
    "        if hasattr(self, '_model') and key in self._model._modules:\n",
    "            self._model._modules[key] = value\n",
    "        elif hasattr(self, '_optimizer') and \\\n",
    "                self._optimizer is not None and \\\n",
    "                key in self._optimizer.state_dict()['param_groups'][0]:\n",
    "            self._optimizer.param_groups[0][key] = value\n",
    "        else:  # Otherwise, normal python set behavior\n",
    "            super(GradientReversalClassifier, self).__setattr__(key, value)\n",
    "\n",
    "    def _init_model(self):\n",
    "        \"\"\"Initialize the PyTorch Neural Network model.\"\"\"\n",
    "        # Setting random seed\n",
    "        if self._random_state is not None:\n",
    "            torch.manual_seed(self._random_state)\n",
    "\n",
    "        # Make sure that model is a proper PyTorch module\n",
    "        if not isinstance(self._model, nn.Module):\n",
    "            raise TypeError(\"`model` must be a `torch.nn.Module`.\")\n",
    "\n",
    "        self._model = self._model.to(self._device)\n",
    "\n",
    "    @staticmethod\n",
    "    def _to_tensor(x):\n",
    "        \"\"\"Convert input CArray to tensor.\"\"\"\n",
    "        if not isinstance(x, CArray):\n",
    "            raise ValueError(\"A `CArray` is required as \"\n",
    "                             \"input to the `_to_tensor` method.\")\n",
    "        x = x.tondarray()\n",
    "        x = torch.from_numpy(x)\n",
    "        x = x.type(torch.FloatTensor)\n",
    "        if use_cuda is True:\n",
    "            x = x.cuda(device=torch.device('cuda'))\n",
    "        return x\n",
    "\n",
    "    @staticmethod\n",
    "    def _from_tensor(x):\n",
    "        \"\"\"Convert input tensor to CArray\"\"\"\n",
    "        if not isinstance(x, torch.Tensor):\n",
    "            raise ValueError(\"A `torch.Tensor` is required as \"\n",
    "                             \"input to the `_from_tensor` method.\")\n",
    "        return CArray(x.cpu().numpy()).astype(float)\n",
    "\n",
    "    def _data_loader(self, data, labels=None, batch_size=10, shuffle=False,\n",
    "                     num_workers=1):\n",
    "        \"\"\"\n",
    "        Returns `torch.DataLoader` generated from\n",
    "        the input CDataset.\n",
    "\n",
    "        Parameters\n",
    "        ----------\n",
    "        data : CArray\n",
    "            CArray containing the input data to load.\n",
    "        labels : CArray\n",
    "            CArray containing the labels for the data.\n",
    "        batch_size : int, optional\n",
    "            Size of the batches to load for each iter of\n",
    "            the data loader.\n",
    "            Default value is 10.\n",
    "        shuffle : bool, optional\n",
    "            Whether to shuffle the data before dividing in batches.\n",
    "            Default value is False.\n",
    "        num_workers : int, optional\n",
    "            Number of processes to use for loading the data.\n",
    "            Default value is 1.\n",
    "\n",
    "        Returns\n",
    "        -------\n",
    "        `CDataLoaderPyTorch` iterator for loading the dataset in batches,\n",
    "        optionally shuffled, with the specified number of workers.\n",
    "\n",
    "        \"\"\"\n",
    "        transform = transforms.Lambda(lambda x: x.reshape(self._input_shape))\n",
    "        return CDataLoaderPyTorch(data, labels,\n",
    "                                  batch_size, shuffle=shuffle,\n",
    "                                  transform=transform,\n",
    "                                  num_workers=num_workers, ).get_loader()\n",
    "\n",
    "    def _fit(self, dataset):\n",
    "        \"\"\"Fit PyTorch model.\"\"\"\n",
    "\n",
    "        if any([self._optimizer is None,\n",
    "                self._loss is None]):\n",
    "            raise ValueError(\"Optimizer and loss should both be defined \"\n",
    "                             \"in order to fit the model.\")\n",
    "\n",
    "        train_loader = self._data_loader(dataset.X, dataset.Y,\n",
    "                                         batch_size=self._batch_size)\n",
    "\n",
    "        for epoch in range(self._epochs):\n",
    "            running_loss = 0.0\n",
    "            for i, data in enumerate(train_loader):\n",
    "                inputs, labels = data\n",
    "                inputs = inputs.to(self._device)\n",
    "                labels = labels.to(self._device)\n",
    "                self._optimizer.zero_grad()\n",
    "                outputs = self._model(inputs)\n",
    "                loss = self._loss(outputs, labels)\n",
    "                loss.backward()\n",
    "                self._optimizer.step()\n",
    "\n",
    "                # print statistics\n",
    "                running_loss += loss.item()\n",
    "                if i % 2000 == 1999:  # print every 2000 mini-batches\n",
    "                    self.logger.info('[%d, %5d] loss: %.3f' %\n",
    "                                     (epoch + 1, i + 1, running_loss / 2000))\n",
    "                    running_loss = 0.0\n",
    "\n",
    "        self._trained = True\n",
    "        return self._model\n",
    "\n",
    "    def _forward(self, x):\n",
    "        \"\"\"Forward pass on input x.\n",
    "        Returns the output of the layer set in _out_layer.\n",
    "        If _out_layer is None, the last layer output is returned,\n",
    "        after applying softmax if softmax_outputs is True.\n",
    "\n",
    "        Parameters\n",
    "        ----------\n",
    "        x : CArray\n",
    "            preprocessed array, ready to be transformed by the current module.\n",
    "\n",
    "        Returns\n",
    "        -------\n",
    "        CArray\n",
    "            Transformed input data.\n",
    "\n",
    "        \"\"\"\n",
    "        data_loader = self._data_loader(x, num_workers=self._n_jobs,\n",
    "                                        batch_size=self._batch_size)\n",
    "\n",
    "        # Switch to evaluation mode\n",
    "        self._model.eval()\n",
    "\n",
    "        out_shape = self.n_classes if self._out_layer is None else \\\n",
    "            reduce((lambda x, y: x * y), self.layer_shapes[self._out_layer])\n",
    "        output = torch.empty((len(data_loader.dataset), out_shape))\n",
    "\n",
    "        for batch_idx, (s, _) in enumerate(data_loader):\n",
    "            # Log progress\n",
    "            self.logger.info(\n",
    "                'Classification: {batch}/{size}'.format(batch=batch_idx,\n",
    "                                                        size=len(data_loader)))\n",
    "\n",
    "            s = s.to(self._device)\n",
    "\n",
    "            if self._cached_x is None:\n",
    "                with torch.no_grad():\n",
    "                    ps = self._get_layer_output(s, self._out_layer)\n",
    "\n",
    "            else:\n",
    "                # keep track of the gradient in s tensor\n",
    "                s.requires_grad = True\n",
    "                ps = self._get_layer_output(s, self._out_layer)\n",
    "                self._cached_s = s\n",
    "                self._cached_layer_output = ps\n",
    "\n",
    "            output[batch_idx * self.batch_size:\n",
    "                   batch_idx * self.batch_size + len(s)] = \\\n",
    "                ps.view(ps.size(0), -1).detach()\n",
    "\n",
    "        # Apply softmax-scaling if needed\n",
    "        if self._softmax_outputs is True and self._out_layer is None:\n",
    "            scores = output.softmax(dim=1)\n",
    "        else:\n",
    "            scores = output\n",
    "\n",
    "        scores = self._from_tensor(scores)\n",
    "        return scores\n",
    "\n",
    "    def _get_layer_output(self, s, layer_name=None):\n",
    "        \"\"\"Returns the output of the desired net layer as `Torch.Tensor`.\n",
    "\n",
    "        Parameters\n",
    "        ----------\n",
    "        s : torch.Tensor\n",
    "            Input tensor to forward propagate.\n",
    "        layer_name : str or None, optional\n",
    "            Name of the layer to hook for getting the output.\n",
    "            If None, the output of the last layer will be returned.\n",
    "\n",
    "        Returns\n",
    "        -------\n",
    "        torch.Tensor\n",
    "            Output of the desired layer(s).\n",
    "\n",
    "        \"\"\"\n",
    "        if layer_name is None:  # Directly use the last layer\n",
    "            return self._model(s)  # Forward pass\n",
    "\n",
    "        elif isinstance(layer_name, str):\n",
    "\n",
    "            self.hook_layer_output(layer_name)\n",
    "            self._model(s)\n",
    "\n",
    "            if not self._intermediate_outputs:\n",
    "                raise ValueError(\"None of requested layers were found\")\n",
    "\n",
    "            return list(self._intermediate_outputs.values())[0]\n",
    "        else:\n",
    "            raise ValueError(\"Pass layer names as a list or just None \"\n",
    "                             \"for last layer output.\")\n",
    "\n",
    "    def _backward(self, w):\n",
    "        \"\"\"Returns the gradient of the DNN - considering the output layer set\n",
    "        in _out_layer - wrt data.\n",
    "\n",
    "        Parameters\n",
    "        ----------\n",
    "        w : CArray\n",
    "            Weights that are pre-multiplied to the gradient\n",
    "            of the module, as in standard reverse-mode autodiff.\n",
    "\n",
    "        Returns\n",
    "        -------\n",
    "        gradient : CArray\n",
    "            Accumulated gradient of the module wrt input data.\n",
    "        \"\"\"\n",
    "        if w is not None:\n",
    "            w = self._to_tensor(w.atleast_2d()).reshape(\n",
    "                self._cached_layer_output.shape)\n",
    "        else:\n",
    "            raise ValueError(\n",
    "                \"Function `_backward` needs the `w` array to run backward with.\")\n",
    "\n",
    "        # Apply softmax-scaling if needed (only if last layer is required)\n",
    "        if self.softmax_outputs is True and self._out_layer is None:\n",
    "            out_carray = self._from_tensor(\n",
    "                self._cached_layer_output.squeeze(0).data)\n",
    "            softmax_grad = CSoftmax().gradient(\n",
    "                out_carray, y=self._cached_layer_output)\n",
    "            self._cached_layer_output *= self._to_tensor(\n",
    "                softmax_grad.atleast_2d()).unsqueeze(0)\n",
    "        w = w.to(self._device)\n",
    "\n",
    "        if self._cached_s.grad is not None:\n",
    "            self._cached_s.grad.data._zero()\n",
    "\n",
    "        self._cached_layer_output.backward(w)\n",
    "\n",
    "        return self._from_tensor(self._cached_s.grad.data.view(\n",
    "            -1, self.n_features))\n",
    "\n",
    "    def save_model(self, filename):\n",
    "        \"\"\"\n",
    "        Stores the model and optimizer's parameters.\n",
    "\n",
    "        Parameters\n",
    "        ----------\n",
    "        filename : str\n",
    "            path of the file for storing the model\n",
    "\n",
    "        \"\"\"\n",
    "        state = {\n",
    "            'model_state': self._model.state_dict(),\n",
    "            'optimizer_state': self._optimizer.state_dict(),\n",
    "            'n_features': self.n_features,\n",
    "            'classes': self.classes,\n",
    "        }\n",
    "\n",
    "        torch.save(state, filename)\n",
    "\n",
    "\n",
    "    def load_model(self, filename, classes=None):\n",
    "        \"\"\"\n",
    "        Restores the model and optimizer's parameters.\n",
    "        Notes: the model class and optimizer should be\n",
    "        defined before loading the params.\n",
    "\n",
    "        Parameters\n",
    "        ----------\n",
    "        filename : str\n",
    "            path where to find the stored model\n",
    "        classes : list, tuple or None, optional\n",
    "            This parameter is used only if the model was stored\n",
    "            with native PyTorch.\n",
    "            Class labels (sorted) for matching classes to indexes\n",
    "            in the loaded model. If classes is None, the classes\n",
    "            will be assigned new indexes from 0 to n_classes.\n",
    "\n",
    "        \"\"\"\n",
    "        state = torch.load(filename, map_location=self._device)\n",
    "        keys = ['model_state', 'optimizer_state', 'n_features', 'classes']\n",
    "        if all(key in state for key in keys):\n",
    "            if classes is not None:\n",
    "                self.logger.warning(\n",
    "                    \"Model was saved within `secml` framework. \"\n",
    "                    \"The parameter `classes` will be ignored.\")\n",
    "            # model was stored with save_model method\n",
    "            self._model.load_state_dict(state['model_state'])\n",
    "            self._optimizer.load_state_dict(state['optimizer_state'])\n",
    "            self._n_features = state['n_features']\n",
    "            self._classes = state['classes']\n",
    "        else:  # model was stored outside secml framework\n",
    "            try:\n",
    "                self._model.load_state_dict(state)\n",
    "                # This part is important to prevent not fitted\n",
    "                if classes is None:\n",
    "                    self._classes = CArray.arange(\n",
    "                        self.layer_shapes[self.layer_names[-1]][1])\n",
    "                else:\n",
    "                    self._classes = CArray(classes)\n",
    "                self._n_features = reduce(lambda x, y: x * y, self.input_shape)\n",
    "                self._trained = True\n",
    "            except Exception:\n",
    "                self.logger.error(\n",
    "                    \"Model's state dict should be stored according to \"\n",
    "                    \"PyTorch docs. Use `torch.save(model.state_dict())`.\")"
   ],
   "metadata": {
    "collapsed": false,
    "pycharm": {
     "name": "#%%\n",
     "is_executing": false
    }
   }
  },
  {
   "cell_type": "code",
   "execution_count": 28,
   "outputs": [],
   "source": [
    "# Should be chosen depending on the optimization problem\n",
    "solver_params = {\n",
    "    'eta': 0.3,\n",
    "    'max_iter': 100,\n",
    "    'eps': 1e-4\n",
    "}"
   ],
   "metadata": {
    "collapsed": false,
    "pycharm": {
     "name": "#%%\n",
     "is_executing": false
    }
   }
  },
  {
   "cell_type": "code",
   "execution_count": 29,
   "outputs": [],
   "source": [
    "from secml.data.c_dataset import CDataset"
   ],
   "metadata": {
    "collapsed": false,
    "pycharm": {
     "name": "#%%\n",
     "is_executing": false
    }
   }
  },
  {
   "cell_type": "code",
   "execution_count": 30,
   "outputs": [],
   "source": [
    "def attack_keras_model(X, Y, S, nb_attack = 25, dmax=0.1):\n",
    "    \"\"\"\n",
    "    Generates an adversarial attack on a general model.\n",
    "\n",
    "    :param df: Original inputs on which the model is trained\n",
    "    :return: Adversarial dataset (i.e. new data points + original input)\n",
    "    \"\"\"\n",
    "    \n",
    "    from secml.data import CDataset\n",
    "    from secml.array import CArray\n",
    "\n",
    "    # secML wants all dimensions to be homogeneous (we had previously float and int in X)\n",
    "    data_set_encoded_secML = CArray(X, dtype=float, copy=True)\n",
    "    data_set_encoded_secML = CDataset(data_set_encoded_secML, Y)\n",
    "\n",
    "    n_tr = round(0.66 * X.shape[0])\n",
    "    n_ts = X.shape[0] - n_tr\n",
    "\n",
    "    logger.debug(X.shape)\n",
    "    logger.debug(n_tr)\n",
    "    logger.debug(n_ts)\n",
    "\n",
    "    from secml.data.splitter import CTrainTestSplit\n",
    "    splitter = CTrainTestSplit(train_size=n_tr, test_size=n_ts)\n",
    "\n",
    "    # Use training set for the classifier and then pick points from an internal test set.\n",
    "    tr_set_secML, ts_set_secML = splitter.split(data_set_encoded_secML)\n",
    "\n",
    "    # tr_set_secML = CDataset(X_train,Y_train)\n",
    "    # ts_set_secML = CDataset(X_test,Y_test)\n",
    "\n",
    "    # Create a surrogate classifier\n",
    "\n",
    "    # Creation of the multiclass classifier\n",
    "    from secml.ml.classifiers import CClassifierSVM\n",
    "    from secml.ml.classifiers.multiclass import CClassifierMulticlassOVA\n",
    "    from secml.ml.kernel import CKernelRBF\n",
    "    clf = CClassifierMulticlassOVA(CClassifierSVM, kernel=CKernelRBF())\n",
    "\n",
    "    # Parameters for the Cross-Validation procedure\n",
    "    xval_params = {'C': [1e-4, 1e-3, 1e-2, 0.1, 1], 'kernel.gamma': [0.01, 0.1, 1, 10, 100, 1e3]}\n",
    "\n",
    "    # Let's create a 3-Fold data splitter\n",
    "    random_state = 999\n",
    "\n",
    "    from secml.data.splitter import CDataSplitterKFold\n",
    "    xval_splitter = CDataSplitterKFold(num_folds=3, random_state=random_state)\n",
    "\n",
    "    # Select and set the best training parameters for the classifier\n",
    "    logger.debug(\"Estimating the best training parameters...\")\n",
    "    best_params = clf.estimate_parameters(\n",
    "        dataset=tr_set_secML,\n",
    "        parameters=xval_params,\n",
    "        splitter=xval_splitter,\n",
    "        metric='accuracy',\n",
    "        perf_evaluator='xval'\n",
    "    )\n",
    "    logger.debug(\"The best training parameters are: \", best_params)\n",
    "\n",
    "    logger.debug(clf.get_params())\n",
    "    logger.debug(clf.num_classifiers)\n",
    "\n",
    "    # Metric to use for training and performance evaluation\n",
    "    from secml.ml.peval.metrics import CMetricAccuracy\n",
    "    metric = CMetricAccuracy()\n",
    "\n",
    "    # Train the classifier\n",
    "    clf.fit(tr_set_secML)\n",
    "    logger.debug(clf.num_classifiers)\n",
    "\n",
    "    # Compute predictions on a test set\n",
    "    y_pred = clf.predict(ts_set_secML.X)\n",
    "\n",
    "    # Evaluate the accuracy of the classifier\n",
    "    acc = metric.performance_score(y_true=ts_set_secML.Y, y_pred=y_pred)\n",
    "\n",
    "    logger.debug(\"Accuracy on test set: {:.2%}\".format(acc))\n",
    "\n",
    "    # Prepare attack configuration\n",
    "\n",
    "    noise_type = 'l2'   # Type of perturbation 'l1' or 'l2'\n",
    "    lb, ub = 0, 1       # Bounds of the attack space. Can be set to `None` for unbounded\n",
    "    y_target = None     # None if `error-generic` or a class label for `error-specific`\n",
    "\n",
    "    # Should be chosen depending on the optimization problem\n",
    "    solver_params = {\n",
    "        'eta': 0.1,         # grid search resolution\n",
    "        'eta_min': 0.1,\n",
    "        'eta_max': None,    # None should be ok\n",
    "        'max_iter': 1000,\n",
    "        'eps': 1e-2         # Tolerance on the stopping crit.\n",
    "    }\n",
    "\n",
    "    # Run attack\n",
    "\n",
    "    from secml.adv.attacks.evasion import CAttackEvasionPGDLS\n",
    "    pgd_ls_attack = CAttackEvasionPGDLS(\n",
    "        classifier=clf,\n",
    "        surrogate_classifier=clf,\n",
    "        surrogate_data=tr_set_secML,\n",
    "        distance=noise_type,\n",
    "        dmax=dmax,\n",
    "        lb=lb, ub=ub,\n",
    "        solver_params=solver_params,\n",
    "        y_target=y_target)\n",
    "    \n",
    "    nb_feat = X.shape[1]\n",
    "\n",
    "    result_pts = np.empty([nb_attack, nb_feat])\n",
    "    result_class = np.empty([nb_attack, 1])\n",
    "\n",
    "    # take a point at random being the starting point of the attack and run the attack\n",
    "    import random\n",
    "    for nb_iter in range(0, nb_attack - 1):\n",
    "        rn = random.randint(0, ts_set_secML.num_samples)\n",
    "        x0, y0 = ts_set_secML[rn, :].X, ts_set_secML[rn, :].Y,\n",
    "\n",
    "        try:\n",
    "            y_pred_pgdls, _, adv_ds_pgdls, _ = pgd_ls_attack.run(x0, y0)\n",
    "            adv_pt = adv_ds_pgdls.X.get_data()\n",
    "            # np.asarray([np.asarray(row, dtype=float) for row in y_tr], dtype=float)\n",
    "            result_pts[nb_iter] = adv_pt\n",
    "            result_class[nb_iter] = y_pred_pgdls.get_data()[0]\n",
    "        except ValueError:\n",
    "            logger.warning(\"value error on {}\".format(nb_iter))\n",
    "\n",
    "    return result_pts, result_class, ts_set_secML[:nb_attack, :].Y"
   ],
   "metadata": {
    "collapsed": false,
    "pycharm": {
     "name": "#%%\n",
     "is_executing": false
    }
   }
  },
  {
   "cell_type": "code",
   "execution_count": 34,
   "outputs": [
    {
     "name": "stdout",
     "text": [
      "2020-03-07 13:40:47,453 - __main__ - WARNING - value error on 18\n"
     ],
     "output_type": "stream"
    }
   ],
   "source": [
    "result_pts, result_class, labels = attack_keras_model(\n",
    "                CArray(train_dataset[:][0]),\n",
    "                Y=CArray((train_dataset[:][1][:,0] > 4).int()),\n",
    "                S=train_dataset[:][3],\n",
    "                nb_attack=25)"
   ],
   "metadata": {
    "collapsed": false,
    "pycharm": {
     "name": "#%%\n",
     "is_executing": false
    }
   }
  },
  {
   "cell_type": "code",
   "execution_count": 32,
   "outputs": [
    {
     "data": {
      "text/plain": "CArray(3689,)(dense: [1. 0. 1. ... 1. 0. 1.])"
     },
     "metadata": {},
     "output_type": "execute_result",
     "execution_count": 32
    }
   ],
   "source": [
    "\n",
    "CArray((train_dataset[:][1][:,0] > 4).float())"
   ],
   "metadata": {
    "collapsed": false,
    "pycharm": {
     "name": "#%%\n",
     "is_executing": false
    }
   }
  },
  {
   "cell_type": "code",
   "execution_count": 33,
   "outputs": [],
   "source": [
    "import logging\n",
    "logger = logging.getLogger(__name__)\n"
   ],
   "metadata": {
    "collapsed": false,
    "pycharm": {
     "name": "#%%\n",
     "is_executing": false
    }
   }
  },
  {
   "cell_type": "code",
   "execution_count": 44,
   "outputs": [
    {
     "data": {
      "text/plain": "array([[ 0.00000000e+000,  1.00000000e+000,  1.00000000e+000,\n         0.00000000e+000,  0.00000000e+000,  2.00000000e-002,\n         2.00000000e-002,  5.00000000e-002,  2.00000000e-002,\n         4.90000000e-001,  8.00000000e-002,  8.00000000e-002,\n         0.00000000e+000,  1.00000000e+000],\n       [ 0.00000000e+000,  1.00000000e+000,  0.00000000e+000,\n         1.00000000e+000,  0.00000000e+000,  0.00000000e+000,\n         0.00000000e+000,  0.00000000e+000,  0.00000000e+000,\n         5.80000000e-001,  0.00000000e+000,  0.00000000e+000,\n         0.00000000e+000,  1.00000000e+000],\n       [ 0.00000000e+000,  1.00000000e+000,  1.00000000e+000,\n         0.00000000e+000,  0.00000000e+000,  0.00000000e+000,\n         0.00000000e+000,  0.00000000e+000,  0.00000000e+000,\n         3.90000000e-001,  0.00000000e+000,  0.00000000e+000,\n         1.00000000e+000,  0.00000000e+000],\n       [ 1.00000000e+000,  0.00000000e+000,  1.00000000e+000,\n         0.00000000e+000,  0.00000000e+000,  0.00000000e+000,\n         0.00000000e+000,  7.00000000e-002,  0.00000000e+000,\n         4.50000000e-001,  0.00000000e+000,  0.00000000e+000,\n         0.00000000e+000,  1.00000000e+000],\n       [ 0.00000000e+000,  1.00000000e+000,  1.00000000e+000,\n         0.00000000e+000,  0.00000000e+000,  0.00000000e+000,\n         0.00000000e+000,  0.00000000e+000,  1.40000000e-001,\n         5.00000000e-001,  0.00000000e+000,  0.00000000e+000,\n         0.00000000e+000,  1.00000000e+000],\n       [ 0.00000000e+000,  1.00000000e+000,  0.00000000e+000,\n         0.00000000e+000,  1.00000000e+000,  0.00000000e+000,\n         0.00000000e+000,  0.00000000e+000,  1.40000000e-001,\n         4.00000000e-001,  0.00000000e+000,  0.00000000e+000,\n         1.00000000e+000,  0.00000000e+000],\n       [ 0.00000000e+000,  1.00000000e+000,  1.00000000e+000,\n         0.00000000e+000,  0.00000000e+000,  2.00000000e-002,\n         2.00000000e-002,  6.00000000e-002,  1.00000000e-002,\n         5.10000000e-001,  5.00000000e-002,  5.00000000e-002,\n         0.00000000e+000,  1.00000000e+000],\n       [ 0.00000000e+000,  1.00000000e+000,  7.00000000e-002,\n         0.00000000e+000,  9.30000000e-001,  0.00000000e+000,\n         7.00000000e-002,  0.00000000e+000,  5.00000000e-002,\n         4.00000000e-001,  0.00000000e+000,  0.00000000e+000,\n         1.00000000e+000,  0.00000000e+000],\n       [ 0.00000000e+000,  1.00000000e+000,  1.00000000e+000,\n         0.00000000e+000,  0.00000000e+000,  2.00000000e-002,\n         2.00000000e-002,  6.00000000e-002,  1.00000000e-002,\n         4.90000000e-001,  6.00000000e-002,  6.00000000e-002,\n         0.00000000e+000,  1.00000000e+000],\n       [ 0.00000000e+000,  1.00000000e+000,  0.00000000e+000,\n         1.00000000e+000,  0.00000000e+000,  0.00000000e+000,\n         0.00000000e+000,  0.00000000e+000,  5.00000000e-002,\n         4.60000000e-001,  2.00000000e-002,  2.00000000e-002,\n         1.00000000e+000,  0.00000000e+000],\n       [ 1.00000000e+000,  0.00000000e+000,  1.00000000e+000,\n         0.00000000e+000,  0.00000000e+000,  1.00000000e-002,\n         0.00000000e+000,  0.00000000e+000,  7.00000000e-002,\n         5.20000000e-001,  5.00000000e-002,  5.00000000e-002,\n         0.00000000e+000,  1.00000000e+000],\n       [ 0.00000000e+000,  1.00000000e+000,  1.00000000e+000,\n         0.00000000e+000,  0.00000000e+000,  0.00000000e+000,\n         0.00000000e+000,  0.00000000e+000,  0.00000000e+000,\n         3.50000000e-001,  0.00000000e+000,  0.00000000e+000,\n         1.00000000e+000,  0.00000000e+000],\n       [ 0.00000000e+000,  1.00000000e+000,  5.00000000e-002,\n         9.50000000e-001,  0.00000000e+000,  0.00000000e+000,\n         0.00000000e+000,  1.00000000e-002,  2.00000000e-002,\n         4.80000000e-001,  0.00000000e+000,  0.00000000e+000,\n         9.50000000e-001,  5.00000000e-002],\n       [-0.00000000e+000,  5.98882778e+173,  8.95533513e+092,\n         0.00000000e+000,  1.69375267e+190,  5.04620681e+180,\n         1.50589681e+161,  2.34783525e+251,  0.00000000e+000,\n         5.36100442e+199,  4.17339999e+199,  3.98472104e+252,\n         5.63096753e+175,  7.05642638e+020],\n       [ 0.00000000e+000,  1.00000000e+000,  1.00000000e+000,\n         0.00000000e+000,  0.00000000e+000,  0.00000000e+000,\n         0.00000000e+000,  0.00000000e+000,  2.00000000e-002,\n         4.70000000e-001,  0.00000000e+000,  0.00000000e+000,\n         0.00000000e+000,  1.00000000e+000],\n       [ 1.00000000e+000,  0.00000000e+000,  0.00000000e+000,\n         0.00000000e+000,  1.00000000e+000,  0.00000000e+000,\n         0.00000000e+000,  0.00000000e+000,  0.00000000e+000,\n         3.40000000e-001,  0.00000000e+000,  0.00000000e+000,\n         1.00000000e+000,  0.00000000e+000],\n       [ 0.00000000e+000,  1.00000000e+000,  0.00000000e+000,\n         1.00000000e+000,  0.00000000e+000,  0.00000000e+000,\n         0.00000000e+000,  0.00000000e+000,  1.80000000e-001,\n         5.00000000e-001,  1.00000000e-002,  1.00000000e-002,\n         0.00000000e+000,  1.00000000e+000],\n       [ 0.00000000e+000,  1.00000000e+000,  1.00000000e+000,\n         0.00000000e+000,  0.00000000e+000,  0.00000000e+000,\n         0.00000000e+000,  0.00000000e+000,  7.70000000e-001,\n         4.80000000e-001,  0.00000000e+000,  0.00000000e+000,\n         0.00000000e+000,  1.00000000e+000],\n       [ 0.00000000e+000,  1.00000000e+000,  7.00000000e-002,\n         9.30000000e-001,  0.00000000e+000,  1.00000000e-002,\n         1.00000000e-002,  1.00000000e-002,  2.00000000e-002,\n         5.00000000e-001,  0.00000000e+000,  0.00000000e+000,\n         0.00000000e+000,  1.00000000e+000],\n       [ 0.00000000e+000,  1.00000000e+000,  0.00000000e+000,\n         1.00000000e+000,  0.00000000e+000,  0.00000000e+000,\n         0.00000000e+000,  0.00000000e+000,  8.00000000e-002,\n         4.60000000e-001,  0.00000000e+000,  0.00000000e+000,\n         1.00000000e+000,  0.00000000e+000],\n       [ 0.00000000e+000,  1.00000000e+000,  1.00000000e+000,\n         0.00000000e+000,  0.00000000e+000,  0.00000000e+000,\n         0.00000000e+000,  0.00000000e+000,  4.60000000e-001,\n         5.10000000e-001,  0.00000000e+000,  0.00000000e+000,\n         1.00000000e+000,  0.00000000e+000],\n       [ 1.00000000e+000,  0.00000000e+000,  1.00000000e+000,\n         0.00000000e+000,  0.00000000e+000,  1.00000000e-002,\n         0.00000000e+000,  0.00000000e+000,  1.30000000e-001,\n         5.00000000e-001,  4.00000000e-002,  4.00000000e-002,\n         1.00000000e+000,  0.00000000e+000],\n       [ 0.00000000e+000,  1.00000000e+000,  0.00000000e+000,\n         0.00000000e+000,  1.00000000e+000,  1.00000000e-002,\n         0.00000000e+000,  3.00000000e-002,  1.00000000e-001,\n         4.70000000e-001,  4.00000000e-002,  4.00000000e-002,\n         0.00000000e+000,  1.00000000e+000],\n       [ 0.00000000e+000,  1.00000000e+000,  0.00000000e+000,\n         0.00000000e+000,  1.00000000e+000,  2.20000000e-001,\n         1.70000000e-001,  0.00000000e+000,  4.00000000e-002,\n         5.20000000e-001,  0.00000000e+000,  0.00000000e+000,\n         0.00000000e+000,  1.00000000e+000],\n       [ 2.37351967e+289,  4.03776497e+202,  4.21561531e+149,\n         7.52216720e+149,  9.69878380e+173,  1.65202498e+015,\n         7.24958787e+228,  1.06314419e+248,  1.36962909e+281,\n         0.00000000e+000,  0.00000000e+000,  7.87916823e+276,\n         1.23759928e+224,  3.29265512e+180]])"
     },
     "metadata": {},
     "output_type": "execute_result",
     "execution_count": 44
    }
   ],
   "source": [
    "result_pts.round(2)\n"
   ],
   "metadata": {
    "collapsed": false,
    "pycharm": {
     "name": "#%%\n",
     "is_executing": false
    }
   }
  },
  {
   "cell_type": "code",
   "execution_count": 35,
   "outputs": [],
   "source": [
    "x_tensor = torch.tensor(result_pts.astype(np.float32)).clamp(0,1)\n",
    "y_tensor = torch.tensor(result_class.reshape(-1,1).astype(np.float32))\n",
    "l_tensor = torch.tensor(labels.tondarray().reshape(-1,1).astype(np.float32))\n",
    "s = np.random.randint(2,size=len(result_class))\n",
    "s_tensor = torch.tensor(np.array([s, 1-s]).T.astype(np.float64))\n",
    "\n",
    "adversarial_dataset = TensorDataset(x_tensor, y_tensor, l_tensor, s_tensor) # dataset = CustomDataset(x_tensor, y_tensor)"
   ],
   "metadata": {
    "collapsed": false,
    "pycharm": {
     "name": "#%%\n",
     "is_executing": false
    }
   }
  },
  {
   "cell_type": "code",
   "execution_count": 35,
   "outputs": [],
   "source": [],
   "metadata": {
    "collapsed": false,
    "pycharm": {
     "name": "#%%\n",
     "is_executing": false
    }
   }
  },
  {
   "cell_type": "code",
   "execution_count": 36,
   "outputs": [
    {
     "data": {
      "text/plain": "(tensor([0.0000, 1.0000, 1.0000, 0.0000, 0.0000, 0.0200, 0.0079, 0.0048, 0.1433,\n         0.5291, 0.0481, 0.0476, 1.0000, 0.0000]),\n tensor([1.]),\n tensor([1.]),\n tensor([0., 1.], dtype=torch.float64))"
     },
     "metadata": {},
     "output_type": "execute_result",
     "execution_count": 36
    }
   ],
   "source": [
    "adversarial_dataset[0]"
   ],
   "metadata": {
    "collapsed": false,
    "pycharm": {
     "name": "#%%\n",
     "is_executing": false
    }
   }
  },
  {
   "cell_type": "code",
   "execution_count": 37,
   "outputs": [
    {
     "data": {
      "text/plain": "(tensor([1.0000e+00, 0.0000e+00, 1.0000e+00, 0.0000e+00, 0.0000e+00, 0.0000e+00,\n         0.0000e+00, 0.0000e+00, 1.0526e-01, 5.0000e-01, 2.0276e-04, 0.0000e+00,\n         1.0000e+00, 0.0000e+00]),\n tensor([7.]),\n tensor([1.]),\n tensor([1., 0.], dtype=torch.float64))"
     },
     "metadata": {},
     "output_type": "execute_result",
     "execution_count": 37
    }
   ],
   "source": [
    "train_dataset[0]"
   ],
   "metadata": {
    "collapsed": false,
    "pycharm": {
     "name": "#%%\n",
     "is_executing": false
    }
   }
  },
  {
   "cell_type": "code",
   "execution_count": 38,
   "outputs": [],
   "source": [
    "from torch.utils.data.dataset import ConcatDataset"
   ],
   "metadata": {
    "collapsed": false,
    "pycharm": {
     "name": "#%%\n",
     "is_executing": false
    }
   }
  },
  {
   "cell_type": "code",
   "execution_count": 39,
   "outputs": [],
   "source": [
    "new_train_dataset = ConcatDataset([train_dataset, adversarial_dataset])"
   ],
   "metadata": {
    "collapsed": false,
    "pycharm": {
     "name": "#%%\n",
     "is_executing": false
    }
   }
  },
  {
   "cell_type": "code",
   "execution_count": 40,
   "outputs": [
    {
     "data": {
      "text/plain": "3714"
     },
     "metadata": {},
     "output_type": "execute_result",
     "execution_count": 40
    }
   ],
   "source": [
    "\n",
    "len(new_train_dataset)"
   ],
   "metadata": {
    "collapsed": false,
    "pycharm": {
     "name": "#%%\n",
     "is_executing": false
    }
   }
  },
  {
   "cell_type": "code",
   "execution_count": 41,
   "outputs": [],
   "source": [
    "train_loader = DataLoader(dataset=new_train_dataset, batch_size=128, shuffle=True)"
   ],
   "metadata": {
    "collapsed": false,
    "pycharm": {
     "name": "#%%\n",
     "is_executing": false
    }
   }
  },
  {
   "cell_type": "code",
   "execution_count": 42,
   "outputs": [],
   "source": [
    "del model\n",
    "\n",
    "torch.manual_seed(0)\n",
    "\n",
    "model = Net()\n",
    "optimizer =optim.Adagrad(model.parameters())\n",
    "\n",
    "n_epochs = 500\n",
    "training_losses = []\n",
    "validation_losses = []"
   ],
   "metadata": {
    "collapsed": false,
    "pycharm": {
     "name": "#%%\n",
     "is_executing": false
    }
   }
  },
  {
   "cell_type": "code",
   "execution_count": 43,
   "outputs": [
    {
     "name": "stdout",
     "text": [
      "{'epoch': 0, 'training_loss': 15.7065958182017, 'validation_loss': 11.400191631874502}\n",
      "{'epoch': 50, 'training_loss': 9.252649132410685, 'validation_loss': 10.423410467069411}\n",
      "{'epoch': 100, 'training_loss': 9.05801083246867, 'validation_loss': 10.113996964058343}\n",
      "{'epoch': 150, 'training_loss': 9.965144236882528, 'validation_loss': 9.089905014595452}\n",
      "{'epoch': 200, 'training_loss': 9.44693112373352, 'validation_loss': 10.378030351560378}\n",
      "{'epoch': 250, 'training_loss': 9.289556709925334, 'validation_loss': 10.872826138100091}\n",
      "{'epoch': 300, 'training_loss': 9.426040490468344, 'validation_loss': 9.265821877083246}\n",
      "{'epoch': 350, 'training_loss': 9.373578214645386, 'validation_loss': 9.851336231789057}\n",
      "{'epoch': 400, 'training_loss': 9.99302814801534, 'validation_loss': 9.99874681528515}\n",
      "{'epoch': 450, 'training_loss': 9.779155699412028, 'validation_loss': 9.74734701212353}\n"
     ],
     "output_type": "stream"
    }
   ],
   "source": [
    "for epoch in range(n_epochs):\n",
    "    model.train()\n",
    "\n",
    "    batch_losses = []\n",
    "    for x_batch, y_batch, _,s_batch in train_loader:\n",
    "        x_batch = x_batch.to(device)\n",
    "        y_batch = y_batch.to(device)\n",
    "        \n",
    "         # zero the parameter gradients\n",
    "        optimizer.zero_grad()\n",
    "\n",
    "        # forward + backward + optimize\n",
    "        outputs, outputs_protected = model(x_batch)\n",
    "        loss = criterion(outputs, y_batch) + criterion_bias(outputs_protected, s_batch.argmax(dim=1))\n",
    "        loss.backward()\n",
    "        optimizer.step()\n",
    "\n",
    "        batch_losses.append(loss.item())\n",
    "\n",
    "    training_loss = np.mean(batch_losses)\n",
    "    training_losses.append(training_loss)\n",
    "\n",
    "    with torch.no_grad():\n",
    "        val_losses = []\n",
    "        for x_val, y_val, _,s_val in val_loader:\n",
    "            x_val = x_val.to(device)\n",
    "            y_val = y_val.to(device)\n",
    "            model.eval()\n",
    "            yhat, s_hat = model(x_val)\n",
    "            val_loss = (criterion(y_val, yhat) + criterion_bias(s_val, s_hat.argmax(dim=1))).item()\n",
    "            val_losses.append(val_loss)\n",
    "        validation_loss = np.mean(val_losses)\n",
    "        validation_losses.append(validation_loss)\n",
    "    if epoch % 50 == 0:\n",
    "        print({\"epoch\": epoch, \"training_loss\": training_loss, \"validation_loss\": validation_loss})  # print last metrics"
   ],
   "metadata": {
    "collapsed": false,
    "pycharm": {
     "name": "#%%\n",
     "is_executing": false
    }
   }
  },
  {
   "cell_type": "code",
   "execution_count": 44,
   "outputs": [
    {
     "name": "stdout",
     "text": [
      "torch.Size([2, 2])\n"
     ],
     "output_type": "stream"
    }
   ],
   "source": [
    "print(s_batch.shape)"
   ],
   "metadata": {
    "collapsed": false,
    "pycharm": {
     "name": "#%%\n",
     "is_executing": false
    }
   }
  },
  {
   "cell_type": "code",
   "execution_count": 45,
   "outputs": [
    {
     "data": {
      "text/plain": "<Figure size 432x288 with 1 Axes>",
      "image/png": "[encoded data removed]"
     },
     "metadata": {},
     "output_type": "display_data"
    }
   ],
   "source": [
    "import matplotlib.pyplot as plt\n",
    "\n",
    "plt.plot(range(len(training_losses)), training_losses)\n",
    "plt.plot(range(len(validation_losses)), validation_losses)\n",
    "#plt.scatter(x_tensor, y_out.detach().numpy())\n",
    "plt.ylabel('some numbers')\n",
    "plt.show()"
   ],
   "metadata": {
    "collapsed": false,
    "pycharm": {
     "name": "#%%\n",
     "is_executing": false
    }
   }
  },
  {
   "cell_type": "code",
   "execution_count": 46,
   "outputs": [],
   "source": [
    "from bayesian_model import BayesianModel as bm\n"
   ],
   "metadata": {
    "collapsed": false,
    "pycharm": {
     "name": "#%%\n",
     "is_executing": false
    }
   }
  },
  {
   "cell_type": "code",
   "execution_count": 47,
   "outputs": [
    {
     "name": "stdout",
     "text": [
      "torch.Size([128, 1])\ntorch.Size([128, 1])\ntorch.Size([128, 1])\ntorch.Size([128, 1])\ntorch.Size([128, 1])\ntorch.Size([128, 1])\ntorch.Size([128, 1])\ntorch.Size([128, 1])\ntorch.Size([38, 1])\n{'Test loss': 12.092354730527664}\n"
     ],
     "output_type": "stream"
    }
   ],
   "source": [
    "\n",
    "with torch.no_grad():\n",
    "    test_losses = []\n",
    "    test_results = []\n",
    "    for x_test, y_test, ytrue, s_true in test_loader:\n",
    "        x_test = x_test.to(device)\n",
    "        y_test = y_test.to(device)\n",
    "        model.eval()\n",
    "        yhat, s_hat = model(x_test)\n",
    "        print(yhat.shape)\n",
    "        test_loss = (criterion(y_test, yhat) + criterion_bias(s_true, s_hat.argmax(dim=1))).item()\n",
    "        test_losses.append(val_loss)\n",
    "        test_results.append({\"y_hat\": yhat, \"y_true\": ytrue, \"y_compas\": y_test, \"s\": s_true, \"s_hat\": s_hat})\n",
    "    print({\"Test loss\": np.mean(test_losses)})\n",
    " "
   ],
   "metadata": {
    "collapsed": false,
    "pycharm": {
     "name": "#%%\n",
     "is_executing": false
    }
   }
  },
  {
   "cell_type": "code",
   "execution_count": 48,
   "outputs": [
    {
     "name": "stdout",
     "text": [
      "torch.Size([256, 1])\ntorch.Size([384, 1])\ntorch.Size([512, 1])\ntorch.Size([640, 1])\ntorch.Size([768, 1])\ntorch.Size([896, 1])\ntorch.Size([1024, 1])\ntorch.Size([1062, 1])\n"
     ],
     "output_type": "stream"
    }
   ],
   "source": [
    "results             = test_results[0]['y_hat']\n",
    "outcome             = test_results[0]['y_true']\n",
    "compas              = test_results[0]['y_compas']\n",
    "protected_results   = test_results[0]['s']\n",
    "protected              = test_results[0]['s_hat']\n",
    "for r in test_results[1:]:\n",
    "    results = torch.cat((results, r['y_hat']))\n",
    "    outcome = torch.cat((outcome, r['y_true']))\n",
    "    compas = torch.cat((compas, r['y_compas']))\n",
    "    protected_results = torch.cat((protected_results, r['s']))\n",
    "    protected = torch.cat((protected, r['s_hat']))\n",
    "    print(results.shape)\n",
    "   "
   ],
   "metadata": {
    "collapsed": false,
    "pycharm": {
     "name": "#%%\n",
     "is_executing": false
    }
   }
  },
  {
   "cell_type": "code",
   "execution_count": 48,
   "outputs": [],
   "source": [
    "                     "
   ],
   "metadata": {
    "collapsed": false,
    "pycharm": {
     "name": "#%%\n",
     "is_executing": false
    }
   }
  },
  {
   "cell_type": "code",
   "execution_count": 49,
   "outputs": [
    {
     "data": {
      "text/plain": "tensor(0.5320)"
     },
     "metadata": {},
     "output_type": "execute_result",
     "execution_count": 49
    }
   ],
   "source": [
    "((results[:,0] > 8) == outcome[:,0]).float().mean() "
   ],
   "metadata": {
    "collapsed": false,
    "pycharm": {
     "name": "#%%\n",
     "is_executing": false
    }
   }
  },
  {
   "cell_type": "code",
   "execution_count": 50,
   "outputs": [
    {
     "data": {
      "text/plain": "<Figure size 504x324 with 1 Axes>",
      "image/png": "[encoded data removed]"
     },
     "metadata": {},
     "output_type": "display_data"
    }
   ],
   "source": [
    "from sklearn.metrics import roc_curve, auc, confusion_matrix\n",
    "\n",
    "\n",
    "\n",
    "fig = plt.figure()\n",
    "fig.set_size_inches(7,4.5)\n",
    "plt.style.use('seaborn-whitegrid')\n",
    "plt.title('ROC of recidivism score within a two-year follow-up')\n",
    "\n",
    "# debiased ROC\n",
    "false_positive_rate, true_positive_rate, thresholds = roc_curve(outcome[:,0], results[:,0])\n",
    "roc_auc = auc(false_positive_rate, true_positive_rate)\n",
    "plt.plot(false_positive_rate, true_positive_rate, \"-\",\n",
    "    label='Naive (AUC = %0.2f)'% roc_auc,  linewidth=3)\n",
    "\n",
    "plt.plot([0,1],[0,1],'--', linewidth=3)\n",
    "\n",
    "# debiased ROC\n",
    "false_positive_rate, true_positive_rate, thresholds = roc_curve(outcome[:,0], compas[:,0])\n",
    "roc_auc = auc(false_positive_rate, true_positive_rate)\n",
    "plt.plot(false_positive_rate, true_positive_rate, \"-o\",\n",
    "    label='COMPAS (AUC = %0.2f)'% roc_auc,  linewidth=3)\n",
    "\n",
    "\n",
    "\n",
    "# COMPAS ROC\n",
    "#false_positive_rate, true_positive_rate, thresholds = roc_curve(prediction['two_year_recid'], prediction['true'])\n",
    "#roc_auc = auc(false_positive_rate, true_positive_rate)\n",
    "#plt.plot(false_positive_rate, true_positive_rate, \"-o\",\n",
    "#label='COMPAS decile (AUC = %0.2f)'% roc_auc,  linewidth=3)\n",
    "\n",
    "plt.legend(loc='lower right')\n",
    "\n",
    "\n",
    "plt.xlim([0, 1])\n",
    "plt.ylim([0, 1])\n",
    "plt.ylabel('True Positive Rate')\n",
    "plt.xlabel('False Positive Rate')\n",
    "plt.tight_layout()\n",
    "plt.show()"
   ],
   "metadata": {
    "collapsed": false,
    "pycharm": {
     "name": "#%%\n",
     "is_executing": false
    }
   }
  },
  {
   "cell_type": "code",
   "execution_count": 51,
   "outputs": [
    {
     "data": {
      "text/plain": "<Figure size 504x324 with 1 Axes>",
      "image/png": "[encoded data removed]"
     },
     "metadata": {},
     "output_type": "display_data"
    }
   ],
   "source": [
    "from sklearn.metrics import roc_curve, auc, confusion_matrix\n",
    "\n",
    "\n",
    "\n",
    "fig = plt.figure()\n",
    "fig.set_size_inches(7,4.5)\n",
    "plt.style.use('seaborn-whitegrid')\n",
    "plt.title('ROC of recidivism score within a two-year follow-up')\n",
    "\n",
    "# debiased ROC\n",
    "false_positive_rate, true_positive_rate, thresholds = roc_curve(protected_results[:,0], protected[:,0])\n",
    "roc_auc = auc(false_positive_rate, true_positive_rate)\n",
    "plt.plot(false_positive_rate, true_positive_rate, \"-\",\n",
    "    label='Debiased (AUC = %0.2f)'% roc_auc,  linewidth=3)\n",
    "\n",
    "plt.plot([0,1],[0,1],'--', linewidth=3)\n",
    "\n",
    "# COMPAS ROC\n",
    "#false_positive_rate, true_positive_rate, thresholds = roc_curve(prediction['two_year_recid'], prediction['true'])\n",
    "#roc_auc = auc(false_positive_rate, true_positive_rate)\n",
    "#plt.plot(false_positive_rate, true_positive_rate, \"-o\",\n",
    "#label='COMPAS decile (AUC = %0.2f)'% roc_auc,  linewidth=3)\n",
    "\n",
    "plt.legend(loc='lower right')\n",
    "\n",
    "\n",
    "plt.xlim([0, 1])\n",
    "plt.ylim([0, 1])\n",
    "plt.ylabel('True Positive Rate')\n",
    "plt.xlabel('False Positive Rate')\n",
    "plt.tight_layout()\n",
    "plt.show()\n",
    "#fig.savefig(\"roc_curve.png\", dpi=300,  transparent=True)"
   ],
   "metadata": {
    "collapsed": false,
    "pycharm": {
     "name": "#%%\n",
     "is_executing": false
    }
   }
  },
  {
   "cell_type": "code",
   "execution_count": 40,
   "outputs": [],
   "source": [
    "df = pd.DataFrame(data=results.numpy(), columns=['pred'])"
   ],
   "metadata": {
    "collapsed": false,
    "pycharm": {
     "name": "#%%\n",
     "is_executing": false
    }
   }
  },
  {
   "cell_type": "code",
   "execution_count": 47,
   "outputs": [],
   "source": [
    "df['true'] = outcome.numpy()\n",
    "df['compas'] = compas.numpy()\n",
    "df['race'] = protected_results.numpy()[:,0]\n",
    "df['race_hat'] = protected.numpy()[:,0]\n",
    "\n"
   ],
   "metadata": {
    "collapsed": false,
    "pycharm": {
     "name": "#%%\n",
     "is_executing": false
    }
   }
  },
  {
   "cell_type": "code",
   "execution_count": 48,
   "outputs": [
    {
     "data": {
      "text/plain": "       pred  true  compas  race_hat  race\n0  3.875628   1.0     7.0  0.398397   1.0\n1  5.417522   0.0     3.0  0.309573   1.0\n2  0.000000   0.0     1.0  0.293049   0.0\n3  6.088035   1.0     9.0  0.592682   1.0\n4  5.287433   1.0     9.0  0.456601   1.0",
      "text/html": "<div>\n<style scoped>\n    .dataframe tbody tr th:only-of-type {\n        vertical-align: middle;\n    }\n\n    .dataframe tbody tr th {\n        vertical-align: top;\n    }\n\n    .dataframe thead th {\n        text-align: right;\n    }\n</style>\n<table border=\"1\" class=\"dataframe\">\n  <thead>\n    <tr style=\"text-align: right;\">\n      <th></th>\n      <th>pred</th>\n      <th>true</th>\n      <th>compas</th>\n      <th>race_hat</th>\n      <th>race</th>\n    </tr>\n  </thead>\n  <tbody>\n    <tr>\n      <th>0</th>\n      <td>3.875628</td>\n      <td>1.0</td>\n      <td>7.0</td>\n      <td>0.398397</td>\n      <td>1.0</td>\n    </tr>\n    <tr>\n      <th>1</th>\n      <td>5.417522</td>\n      <td>0.0</td>\n      <td>3.0</td>\n      <td>0.309573</td>\n      <td>1.0</td>\n    </tr>\n    <tr>\n      <th>2</th>\n      <td>0.000000</td>\n      <td>0.0</td>\n      <td>1.0</td>\n      <td>0.293049</td>\n      <td>0.0</td>\n    </tr>\n    <tr>\n      <th>3</th>\n      <td>6.088035</td>\n      <td>1.0</td>\n      <td>9.0</td>\n      <td>0.592682</td>\n      <td>1.0</td>\n    </tr>\n    <tr>\n      <th>4</th>\n      <td>5.287433</td>\n      <td>1.0</td>\n      <td>9.0</td>\n      <td>0.456601</td>\n      <td>1.0</td>\n    </tr>\n  </tbody>\n</table>\n</div>"
     },
     "metadata": {},
     "output_type": "execute_result",
     "execution_count": 48
    }
   ],
   "source": [
    "df.head()"
   ],
   "metadata": {
    "collapsed": false,
    "pycharm": {
     "name": "#%%\n",
     "is_executing": false
    }
   }
  },
  {
   "cell_type": "code",
   "execution_count": 49,
   "outputs": [
    {
     "name": "stdout",
     "text": [
      "0.1653481243614071\n"
     ],
     "output_type": "stream"
    }
   ],
   "source": [
    "from bayesian_model import BayesianModel as bm\n",
    "\n",
    "dem_parity = abs(\n",
    "        bm(df).P(pred=lambda x: x > 4).given(race=0) \n",
    "        - bm(df).P(pred=lambda x: x > 4).given(\n",
    "            race=1))\n",
    "print(dem_parity)"
   ],
   "metadata": {
    "collapsed": false,
    "pycharm": {
     "name": "#%%\n",
     "is_executing": false
    }
   }
  },
  {
   "cell_type": "code",
   "execution_count": 52,
   "outputs": [
    {
     "name": "stdout",
     "text": [
      "0.16093948860349416\n"
     ],
     "output_type": "stream"
    }
   ],
   "source": [
    "eq_op = abs(\n",
    "        bm(df).P(pred=lambda x: x > 4).given(race=0, compas=True) \n",
    "        - bm(df).P(pred=lambda x: x > 4).given(race=1, compas=True))\n",
    "\n",
    "print(eq_op)"
   ],
   "metadata": {
    "collapsed": false,
    "pycharm": {
     "name": "#%%\n",
     "is_executing": false
    }
   }
  },
  {
   "cell_type": "code",
   "execution_count": 53,
   "outputs": [
    {
     "name": "stdout",
     "text": [
      "0.7751845677542272\n"
     ],
     "output_type": "stream"
    }
   ],
   "source": [
    "dem_parity_ratio = abs(\n",
    "        bm(df).P(pred=lambda x: x > 4).given(race=0) \n",
    "        / bm(df).P(pred=lambda x: x > 4).given(\n",
    "            race=1))\n",
    "print(dem_parity_ratio)\n",
    "\n"
   ],
   "metadata": {
    "collapsed": false,
    "pycharm": {
     "name": "#%%\n",
     "is_executing": false
    }
   }
  },
  {
   "cell_type": "code",
   "execution_count": null,
   "outputs": [],
   "source": [
    "\n"
   ],
   "metadata": {
    "collapsed": false,
    "pycharm": {
     "name": "#%%\n"
    }
   }
  }
 ],
 "metadata": {
  "kernelspec": {
   "display_name": "Python 3",
   "language": "python",
   "name": "python3"
  },
  "language_info": {
   "codemirror_mode": {
    "name": "ipython",
    "version": 2
   },
   "file_extension": ".py",
   "mimetype": "text/x-python",
   "name": "python",
   "nbconvert_exporter": "python",
   "pygments_lexer": "ipython2",
   "version": "2.7.6"
  },
  "pycharm": {
   "stem_cell": {
    "cell_type": "raw",
    "source": [],
    "metadata": {
     "collapsed": false
    }
   }
  }
 },
 "nbformat": 4,
 "nbformat_minor": 0
}