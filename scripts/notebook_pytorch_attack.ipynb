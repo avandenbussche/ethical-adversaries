{
 "cells": [
  {
   "cell_type": "code",
   "execution_count": 1,
   "metadata": {
    "collapsed": true,
    "pycharm": {
     "is_executing": false
    }
   },
   "outputs": [],
   "source": [
    "import numpy as np\n",
    "import torch\n",
    "import torch.optim as optim\n",
    "import torch.nn as nn\n",
    "import torch.nn.functional as F\n",
    "from torch.utils.data import Dataset, TensorDataset, DataLoader\n",
    "from torch.utils.data.dataset import random_split\n",
    "from tqdm import trange\n",
    "from tqdm.notebook import tnrange\n",
    "\n",
    "from sklearn import preprocessing\n",
    "import pandas as pd\n",
    "import os"
   ]
  },
  {
   "cell_type": "code",
   "execution_count": 2,
   "outputs": [],
   "source": [
    "device = 'cuda' if torch.cuda.is_available() else 'cpu'"
   ],
   "metadata": {
    "collapsed": false,
    "pycharm": {
     "name": "#%%\n",
     "is_executing": false
    }
   }
  },
  {
   "cell_type": "code",
   "execution_count": 14,
   "outputs": [],
   "source": [
    "def transform_dataset(df):\n",
    "    \"\"\"\n",
    "\n",
    "    :param df:\n",
    "    :return: Tuple of the transformed dataset and the labels Y and S\n",
    "    \"\"\"\n",
    "\n",
    "    df_binary = df[(df[\"race\"] == \"Caucasian\") | (df[\"race\"] == \"African-American\")]\n",
    "\n",
    "    del df_binary['c_jail_in']\n",
    "    del df_binary['c_jail_out']\n",
    "\n",
    "    ##separated class from the rests of the features\n",
    "    # remove unnecessary dimensions from Y -> only the decile_score remains\n",
    "    Y = df_binary['decile_score']    \n",
    "    del df_binary['decile_score']\n",
    "    Y_true = df_binary['two_year_recid']\n",
    "    del df_binary['two_year_recid']\n",
    "    del df_binary['score_text']\n",
    "\n",
    "    S = df_binary['race']\n",
    "    del df_binary['race']\n",
    "    del df_binary['is_recid']\n",
    "\n",
    "    # set sparse to False to return dense matrix after transformation and keep all dimensions homogeneous\n",
    "    encod = preprocessing.OneHotEncoder(sparse=False)\n",
    "    \n",
    "    data_to_encode = df_binary.to_numpy()\n",
    "    feat_to_encode = data_to_encode[:, 0]\n",
    "    # print(feat_to_encode)\n",
    "    # transposition\n",
    "    feat_to_encode = feat_to_encode.reshape(-1, 1)\n",
    "    # print(feat_to_encode)\n",
    "    encoded_feature = encod.fit_transform(feat_to_encode)\n",
    "\n",
    "    df_binary_encoded = pd.DataFrame(encoded_feature)\n",
    "\n",
    "    feat_to_encode = data_to_encode[:, 1]\n",
    "    feat_to_encode = feat_to_encode.reshape(-1, 1)\n",
    "    encoded_feature = encod.fit_transform(feat_to_encode)\n",
    "\n",
    "    df_encoded_feature = pd.DataFrame(encoded_feature)\n",
    "\n",
    "    df_binary_encoded = pd.concat([df_binary_encoded, pd.DataFrame(encoded_feature)], axis=1)\n",
    "\n",
    "    # feature [2] [3] [4] [5] [6] [7] [8] has to be put between 0 and 1\n",
    "\n",
    "    for i in range(2, 9):\n",
    "        encoded_feature = data_to_encode[:, i]\n",
    "        ma = np.amax(encoded_feature)\n",
    "        mi = np.amin(encoded_feature)\n",
    "        encoded_feature = (encoded_feature - mi) / (ma - mi)\n",
    "        df_binary_encoded = pd.concat([df_binary_encoded, pd.DataFrame(encoded_feature)], axis=1)\n",
    "\n",
    "    feat_to_encode = data_to_encode[:, 9]\n",
    "    feat_to_encode = feat_to_encode.reshape(-1, 1)\n",
    "    encoded_feature = encod.fit_transform(feat_to_encode)\n",
    "\n",
    "    df_encoded_feature = pd.DataFrame(encoded_feature)\n",
    "\n",
    "    df_binary_encoded = pd.concat([df_binary_encoded, pd.DataFrame(encoded_feature)], axis=1)\n",
    "\n",
    "    return df_binary_encoded, Y, S, Y_true\n"
   ],
   "metadata": {
    "collapsed": false,
    "pycharm": {
     "name": "#%%\n",
     "is_executing": false
    }
   }
  },
  {
   "cell_type": "code",
   "execution_count": 15,
   "outputs": [],
   "source": [
    "df = pd.read_csv(os.path.join(\"..\", \"data\", \"csv\", \"scikit\",\n",
    "                                  \"compas_recidive_two_years_sanitize_age_category_jail_time_decile_score.csv\"))\n",
    "\n",
    "df_binary, Y, S, Y_true = transform_dataset(df)\n",
    "\n",
    "#df_outcome = pd.DataFrame(np.array([S, Y]).T, columns=['race', 'true'])\n"
   ],
   "metadata": {
    "collapsed": false,
    "pycharm": {
     "name": "#%%\n",
     "is_executing": false
    }
   }
  },
  {
   "cell_type": "code",
   "execution_count": 16,
   "outputs": [],
   "source": [
    "x_tensor = torch.tensor(df_binary.to_numpy().astype(np.float32))\n",
    "y_tensor = torch.tensor(Y.to_numpy().reshape(-1,1).astype(np.float32))\n",
    "l_tensor = torch.tensor(Y_true.to_numpy().reshape(-1,1).astype(np.float32))\n",
    "s_tensor = torch.tensor(preprocessing.OneHotEncoder().fit_transform(np.array(S).reshape(-1, 1)).toarray())"
   ],
   "metadata": {
    "collapsed": false,
    "pycharm": {
     "name": "#%%\n",
     "is_executing": false
    }
   }
  },
  {
   "cell_type": "code",
   "execution_count": 17,
   "outputs": [],
   "source": [
    "class CustomDataset(Dataset):\n",
    "    def __init__(self, x_tensor, y_tensor, s_tensor):\n",
    "        self.x = x_tensor\n",
    "        self.y = y_tensor\n",
    "        self.s = s_tensor\n",
    "\n",
    "    def __getitem__(self, index):\n",
    "        return self.x[index], self.y[index], self.s[index]\n",
    "\n",
    "    def __len__(self):\n",
    "        return len(self.x)"
   ],
   "metadata": {
    "collapsed": false,
    "pycharm": {
     "name": "#%%\n",
     "is_executing": false
    }
   }
  },
  {
   "cell_type": "code",
   "execution_count": 18,
   "outputs": [],
   "source": [
    "dataset = TensorDataset(x_tensor, y_tensor, l_tensor, s_tensor) # dataset = CustomDataset(x_tensor, y_tensor)"
   ],
   "metadata": {
    "collapsed": false,
    "pycharm": {
     "name": "#%%\n",
     "is_executing": false
    }
   }
  },
  {
   "cell_type": "code",
   "execution_count": 19,
   "outputs": [],
   "source": [
    "base_size = len(dataset)//10\n",
    "split = [7*base_size,1*base_size, len(dataset)-8*base_size] # Train, validation, test"
   ],
   "metadata": {
    "collapsed": false,
    "pycharm": {
     "name": "#%%\n",
     "is_executing": false
    }
   }
  },
  {
   "cell_type": "code",
   "execution_count": 20,
   "outputs": [],
   "source": [
    "train_dataset, val_dataset, test_dataset = random_split(dataset, split)"
   ],
   "metadata": {
    "collapsed": false,
    "pycharm": {
     "name": "#%%\n",
     "is_executing": false
    }
   }
  },
  {
   "cell_type": "code",
   "execution_count": 21,
   "outputs": [],
   "source": [
    "train_loader = DataLoader(dataset=train_dataset, batch_size=128, shuffle=True)\n",
    "val_loader = DataLoader(dataset=val_dataset, batch_size=128)\n",
    "test_loader = DataLoader(dataset=test_dataset, batch_size=128)"
   ],
   "metadata": {
    "collapsed": false,
    "pycharm": {
     "name": "#%%\n",
     "is_executing": false
    }
   }
  },
  {
   "cell_type": "code",
   "execution_count": 22,
   "outputs": [],
   "source": [
    "from torch.autograd import Function\n",
    "\n",
    "class GradientReversalFunction(Function):\n",
    "    \"\"\"\n",
    "    Gradient Reversal Layer from:\n",
    "    Unsupervised Domain Adaptation by Backpropagation (Ganin & Lempitsky, 2015)\n",
    "    Forward pass is the identity function. In the backward pass,\n",
    "    the upstream gradients are multiplied by -lambda (i.e. gradient is reversed)\n",
    "    \"\"\"\n",
    "\n",
    "    @staticmethod\n",
    "    def forward(ctx, x, lambda_):\n",
    "        ctx.lambda_ = lambda_\n",
    "        return x.clone()\n",
    "\n",
    "    @staticmethod\n",
    "    def backward(ctx, grads):\n",
    "        lambda_ = ctx.lambda_\n",
    "        lambda_ = grads.new_tensor(lambda_)\n",
    "        dx = -lambda_ * grads\n",
    "        return dx, None\n",
    "\n",
    "\n",
    "class GradientReversal(torch.nn.Module):\n",
    "    def __init__(self, lambda_=1):\n",
    "        super(GradientReversal, self).__init__()\n",
    "        self.lambda_ = lambda_\n",
    "\n",
    "    def forward(self, x):\n",
    "        return GradientReversalFunction.apply(x, self.lambda_)"
   ],
   "metadata": {
    "collapsed": false,
    "pycharm": {
     "name": "#%%\n",
     "is_executing": false
    }
   }
  },
  {
   "cell_type": "code",
   "execution_count": 92,
   "outputs": [],
   "source": [
    "class Net(nn.Module):\n",
    "\n",
    "    def __init__(self):\n",
    "        super(Net, self).__init__()\n",
    "        # an affine operation: y = Wx + b\n",
    "        self.fc1 = nn.Linear(14, 64)\n",
    "        self.fc2 = nn.Linear(64, 64)\n",
    "        self.fc3 = nn.Linear(64, 1)\n",
    "        self.grl = GradientReversal(100)\n",
    "        self.fc4 = nn.Linear(64, 2)\n",
    "        \n",
    "        #self.grl = GradientReversal(100)\n",
    "\n",
    "    def forward(self, x):\n",
    "        x = self.fc1(x)\n",
    "        x = F.relu(x)\n",
    "        x = F.dropout(x, 0.1)\n",
    "        x = self.fc2(x)\n",
    "        x = F.relu(x)\n",
    "        hidden = F.dropout(x, 0.1)\n",
    "        y = self.fc3(hidden)\n",
    "        y = F.dropout(y, 0.1)\n",
    "        s = self.grl(hidden)\n",
    "        s = self.fc4(s)\n",
    "        #s = F.sigmoid(s)\n",
    "        s = F.dropout(s, 0.1)\n",
    "        return y,s"
   ],
   "metadata": {
    "collapsed": false,
    "pycharm": {
     "name": "#%%\n",
     "is_executing": false
    }
   }
  },
  {
   "cell_type": "code",
   "execution_count": 93,
   "outputs": [],
   "source": [
    "def make_train_step(model: Net, loss_fn, optimizer):\n",
    "    def _train_step(x, y):\n",
    "        optimizer.zero_grad()\n",
    "        yhat = model(x)\n",
    "        loss = loss_fn(y, yhat)\n",
    "        loss.backward()\n",
    "        optimizer.step()\n",
    "        return loss.item()\n",
    "    return _train_step"
   ],
   "metadata": {
    "collapsed": false,
    "pycharm": {
     "name": "#%%\n",
     "is_executing": false
    }
   }
  },
  {
   "cell_type": "code",
   "execution_count": 94,
   "outputs": [],
   "source": [
    "def weights_init_uniform_rule(m):\n",
    "        classname = m.__class__.__name__\n",
    "        # for every Linear layer in a model..\n",
    "        if classname.find('Linear') != -1:\n",
    "            # get the number of the inputs\n",
    "            n = m.in_features\n",
    "            y = 1.0/np.sqrt(n)\n",
    "            m.weight.data.uniform_(-y, y)\n",
    "            m.bias.data.fill_(0)\n",
    "            "
   ],
   "metadata": {
    "collapsed": false,
    "pycharm": {
     "name": "#%%\n",
     "is_executing": false
    }
   }
  },
  {
   "cell_type": "code",
   "execution_count": 95,
   "outputs": [],
   "source": [
    "torch.manual_seed(0)\n",
    "\n",
    "model = Net()\n",
    "criterion = nn.MSELoss()\n",
    "criterion_bias = nn.CrossEntropyLoss()\n",
    "optimizer =optim.Adagrad(model.parameters())\n",
    "\n",
    "n_epochs = 3000\n",
    "training_losses = []\n",
    "validation_losses = []"
   ],
   "metadata": {
    "collapsed": false,
    "pycharm": {
     "name": "#%%\n",
     "is_executing": false
    }
   }
  },
  {
   "cell_type": "code",
   "execution_count": 96,
   "outputs": [
    {
     "name": "stderr",
     "text": [
      "\n\n\n\n\n\n\n",
      "\rProgress:   0%|          | 0/3000 [00:00<?, ?it/s]",
      "\u001b[A\u001b[A\u001b[A\u001b[A\u001b[A\u001b[A\u001b[A"
     ],
     "output_type": "stream"
    },
    {
     "name": "stdout",
     "text": [
      "{'epoch': 0, 'training_loss': 15.887411380636282, 'validation_loss': 10.96130426462597}\n",
      "{'epoch': 50, 'training_loss': 9.227819278322418, 'validation_loss': 9.414240901232821}\n",
      "{'epoch': 100, 'training_loss': 9.746819315285519, 'validation_loss': 9.709880142769281}\n",
      "{'epoch': 150, 'training_loss': 9.522100415723077, 'validation_loss': 10.454210262855948}\n",
      "{'epoch': 200, 'training_loss': 9.832316661703176, 'validation_loss': 10.05315453267203}\n",
      "{'epoch': 250, 'training_loss': 9.889917603854474, 'validation_loss': 9.633824876706862}\n",
      "{'epoch': 300, 'training_loss': 9.854818344116211, 'validation_loss': 10.80963932728873}\n",
      "{'epoch': 350, 'training_loss': 9.873116871406292, 'validation_loss': 9.526024774472974}\n",
      "{'epoch': 400, 'training_loss': 9.472506079180487, 'validation_loss': 9.330274480741284}\n",
      "{'epoch': 450, 'training_loss': 10.142514787871262, 'validation_loss': 9.766057758888664}\n",
      "{'epoch': 500, 'training_loss': 9.853647511580895, 'validation_loss': 10.281211046140454}\n",
      "{'epoch': 550, 'training_loss': 9.694771421366724, 'validation_loss': 10.310521571398837}\n",
      "{'epoch': 600, 'training_loss': 9.665580716626398, 'validation_loss': 10.161675421954257}\n",
      "{'epoch': 650, 'training_loss': 9.428667545318604, 'validation_loss': 10.436137645007236}\n",
      "{'epoch': 700, 'training_loss': 10.133064385118155, 'validation_loss': 11.464672820330723}\n",
      "{'epoch': 750, 'training_loss': 9.529943416858542, 'validation_loss': 10.753985945941073}\n",
      "{'epoch': 800, 'training_loss': 9.882403587472849, 'validation_loss': 9.938204638720615}\n",
      "{'epoch': 850, 'training_loss': 9.496759069376978, 'validation_loss': 10.366380673012198}\n",
      "{'epoch': 900, 'training_loss': 9.464244464348102, 'validation_loss': 10.043765227557284}\n",
      "{'epoch': 950, 'training_loss': 9.898996714887948, 'validation_loss': 11.32548405385123}\n",
      "{'epoch': 1000, 'training_loss': 9.500937330311743, 'validation_loss': 10.470017592669588}\n",
      "{'epoch': 1050, 'training_loss': 9.6606335475527, 'validation_loss': 10.374913947344883}\n",
      "{'epoch': 1100, 'training_loss': 9.752309519669105, 'validation_loss': 9.798919646502597}\n",
      "{'epoch': 1150, 'training_loss': 9.541688935510043, 'validation_loss': 10.193409983874423}\n",
      "{'epoch': 1200, 'training_loss': 9.69098844199345, 'validation_loss': 9.501114527941805}\n",
      "{'epoch': 1250, 'training_loss': 10.01108904542594, 'validation_loss': 10.402630011798006}\n",
      "{'epoch': 1300, 'training_loss': 9.581558918130808, 'validation_loss': 9.56123205876456}\n",
      "{'epoch': 1350, 'training_loss': 9.48895370549169, 'validation_loss': 10.052666442156895}\n",
      "{'epoch': 1400, 'training_loss': 9.384628394554401, 'validation_loss': 9.804996554614169}\n",
      "{'epoch': 1450, 'training_loss': 9.67188780883263, 'validation_loss': 10.21268994069205}\n",
      "{'epoch': 1500, 'training_loss': 9.548591169817694, 'validation_loss': 10.361488120318516}\n",
      "{'epoch': 1550, 'training_loss': 9.424624262184933, 'validation_loss': 9.989953976234855}\n",
      "{'epoch': 1600, 'training_loss': 9.654749409905795, 'validation_loss': 10.293844477892979}\n",
      "{'epoch': 1650, 'training_loss': 9.831494791754361, 'validation_loss': 10.329249541522127}\n",
      "{'epoch': 1700, 'training_loss': 9.622254864922885, 'validation_loss': 10.754503791094882}\n",
      "{'epoch': 1750, 'training_loss': 9.573035585469214, 'validation_loss': 9.852269713641268}\n",
      "{'epoch': 1800, 'training_loss': 9.586699617320093, 'validation_loss': 9.105314318896395}\n",
      "{'epoch': 1850, 'training_loss': 9.36643935894144, 'validation_loss': 9.53588215565787}\n",
      "{'epoch': 1900, 'training_loss': 9.965274005100644, 'validation_loss': 9.380227629901034}\n"
     ],
     "output_type": "stream"
    },
    {
     "traceback": [
      "\u001b[0;31m---------------------------------------------------------------------------\u001b[0m",
      "\u001b[0;31mKeyboardInterrupt\u001b[0m                         Traceback (most recent call last)",
      "\u001b[0;32m<ipython-input-96-32d3ec237395>\u001b[0m in \u001b[0;36m<module>\u001b[0;34m\u001b[0m\n\u001b[1;32m      6\u001b[0m \u001b[0;34m\u001b[0m\u001b[0m\n\u001b[1;32m      7\u001b[0m     \u001b[0mbatch_losses\u001b[0m \u001b[0;34m=\u001b[0m \u001b[0;34m[\u001b[0m\u001b[0;34m]\u001b[0m\u001b[0;34m\u001b[0m\u001b[0;34m\u001b[0m\u001b[0m\n\u001b[0;32m----> 8\u001b[0;31m     \u001b[0;32mfor\u001b[0m \u001b[0mx_batch\u001b[0m\u001b[0;34m,\u001b[0m \u001b[0my_batch\u001b[0m\u001b[0;34m,\u001b[0m \u001b[0m_\u001b[0m\u001b[0;34m,\u001b[0m\u001b[0ms_batch\u001b[0m \u001b[0;32min\u001b[0m \u001b[0mtrain_loader\u001b[0m\u001b[0;34m:\u001b[0m\u001b[0;34m\u001b[0m\u001b[0;34m\u001b[0m\u001b[0m\n\u001b[0m\u001b[1;32m      9\u001b[0m         \u001b[0mx_batch\u001b[0m \u001b[0;34m=\u001b[0m \u001b[0mx_batch\u001b[0m\u001b[0;34m.\u001b[0m\u001b[0mto\u001b[0m\u001b[0;34m(\u001b[0m\u001b[0mdevice\u001b[0m\u001b[0;34m)\u001b[0m\u001b[0;34m\u001b[0m\u001b[0;34m\u001b[0m\u001b[0m\n\u001b[1;32m     10\u001b[0m         \u001b[0my_batch\u001b[0m \u001b[0;34m=\u001b[0m \u001b[0my_batch\u001b[0m\u001b[0;34m.\u001b[0m\u001b[0mto\u001b[0m\u001b[0;34m(\u001b[0m\u001b[0mdevice\u001b[0m\u001b[0;34m)\u001b[0m\u001b[0;34m\u001b[0m\u001b[0;34m\u001b[0m\u001b[0m\n",
      "\u001b[0;32m~/.local/share/virtualenvs/ethicsML-IsNwXYYM/lib/python3.7/site-packages/torch/utils/data/dataloader.py\u001b[0m in \u001b[0;36m__next__\u001b[0;34m(self)\u001b[0m\n\u001b[1;32m    343\u001b[0m \u001b[0;34m\u001b[0m\u001b[0m\n\u001b[1;32m    344\u001b[0m     \u001b[0;32mdef\u001b[0m \u001b[0m__next__\u001b[0m\u001b[0;34m(\u001b[0m\u001b[0mself\u001b[0m\u001b[0;34m)\u001b[0m\u001b[0;34m:\u001b[0m\u001b[0;34m\u001b[0m\u001b[0;34m\u001b[0m\u001b[0m\n\u001b[0;32m--> 345\u001b[0;31m         \u001b[0mdata\u001b[0m \u001b[0;34m=\u001b[0m \u001b[0mself\u001b[0m\u001b[0;34m.\u001b[0m\u001b[0m_next_data\u001b[0m\u001b[0;34m(\u001b[0m\u001b[0;34m)\u001b[0m\u001b[0;34m\u001b[0m\u001b[0;34m\u001b[0m\u001b[0m\n\u001b[0m\u001b[1;32m    346\u001b[0m         \u001b[0mself\u001b[0m\u001b[0;34m.\u001b[0m\u001b[0m_num_yielded\u001b[0m \u001b[0;34m+=\u001b[0m \u001b[0;36m1\u001b[0m\u001b[0;34m\u001b[0m\u001b[0;34m\u001b[0m\u001b[0m\n\u001b[1;32m    347\u001b[0m         \u001b[0;32mif\u001b[0m \u001b[0mself\u001b[0m\u001b[0;34m.\u001b[0m\u001b[0m_dataset_kind\u001b[0m \u001b[0;34m==\u001b[0m \u001b[0m_DatasetKind\u001b[0m\u001b[0;34m.\u001b[0m\u001b[0mIterable\u001b[0m \u001b[0;32mand\u001b[0m\u001b[0;31m \u001b[0m\u001b[0;31m\\\u001b[0m\u001b[0;34m\u001b[0m\u001b[0;34m\u001b[0m\u001b[0m\n",
      "\u001b[0;32m~/.local/share/virtualenvs/ethicsML-IsNwXYYM/lib/python3.7/site-packages/torch/utils/data/dataloader.py\u001b[0m in \u001b[0;36m_next_data\u001b[0;34m(self)\u001b[0m\n\u001b[1;32m    383\u001b[0m     \u001b[0;32mdef\u001b[0m \u001b[0m_next_data\u001b[0m\u001b[0;34m(\u001b[0m\u001b[0mself\u001b[0m\u001b[0;34m)\u001b[0m\u001b[0;34m:\u001b[0m\u001b[0;34m\u001b[0m\u001b[0;34m\u001b[0m\u001b[0m\n\u001b[1;32m    384\u001b[0m         \u001b[0mindex\u001b[0m \u001b[0;34m=\u001b[0m \u001b[0mself\u001b[0m\u001b[0;34m.\u001b[0m\u001b[0m_next_index\u001b[0m\u001b[0;34m(\u001b[0m\u001b[0;34m)\u001b[0m  \u001b[0;31m# may raise StopIteration\u001b[0m\u001b[0;34m\u001b[0m\u001b[0;34m\u001b[0m\u001b[0m\n\u001b[0;32m--> 385\u001b[0;31m         \u001b[0mdata\u001b[0m \u001b[0;34m=\u001b[0m \u001b[0mself\u001b[0m\u001b[0;34m.\u001b[0m\u001b[0m_dataset_fetcher\u001b[0m\u001b[0;34m.\u001b[0m\u001b[0mfetch\u001b[0m\u001b[0;34m(\u001b[0m\u001b[0mindex\u001b[0m\u001b[0;34m)\u001b[0m  \u001b[0;31m# may raise StopIteration\u001b[0m\u001b[0;34m\u001b[0m\u001b[0;34m\u001b[0m\u001b[0m\n\u001b[0m\u001b[1;32m    386\u001b[0m         \u001b[0;32mif\u001b[0m \u001b[0mself\u001b[0m\u001b[0;34m.\u001b[0m\u001b[0m_pin_memory\u001b[0m\u001b[0;34m:\u001b[0m\u001b[0;34m\u001b[0m\u001b[0;34m\u001b[0m\u001b[0m\n\u001b[1;32m    387\u001b[0m             \u001b[0mdata\u001b[0m \u001b[0;34m=\u001b[0m \u001b[0m_utils\u001b[0m\u001b[0;34m.\u001b[0m\u001b[0mpin_memory\u001b[0m\u001b[0;34m.\u001b[0m\u001b[0mpin_memory\u001b[0m\u001b[0;34m(\u001b[0m\u001b[0mdata\u001b[0m\u001b[0;34m)\u001b[0m\u001b[0;34m\u001b[0m\u001b[0;34m\u001b[0m\u001b[0m\n",
      "\u001b[0;32m~/.local/share/virtualenvs/ethicsML-IsNwXYYM/lib/python3.7/site-packages/torch/utils/data/_utils/fetch.py\u001b[0m in \u001b[0;36mfetch\u001b[0;34m(self, possibly_batched_index)\u001b[0m\n\u001b[1;32m     42\u001b[0m     \u001b[0;32mdef\u001b[0m \u001b[0mfetch\u001b[0m\u001b[0;34m(\u001b[0m\u001b[0mself\u001b[0m\u001b[0;34m,\u001b[0m \u001b[0mpossibly_batched_index\u001b[0m\u001b[0;34m)\u001b[0m\u001b[0;34m:\u001b[0m\u001b[0;34m\u001b[0m\u001b[0;34m\u001b[0m\u001b[0m\n\u001b[1;32m     43\u001b[0m         \u001b[0;32mif\u001b[0m \u001b[0mself\u001b[0m\u001b[0;34m.\u001b[0m\u001b[0mauto_collation\u001b[0m\u001b[0;34m:\u001b[0m\u001b[0;34m\u001b[0m\u001b[0;34m\u001b[0m\u001b[0m\n\u001b[0;32m---> 44\u001b[0;31m             \u001b[0mdata\u001b[0m \u001b[0;34m=\u001b[0m \u001b[0;34m[\u001b[0m\u001b[0mself\u001b[0m\u001b[0;34m.\u001b[0m\u001b[0mdataset\u001b[0m\u001b[0;34m[\u001b[0m\u001b[0midx\u001b[0m\u001b[0;34m]\u001b[0m \u001b[0;32mfor\u001b[0m \u001b[0midx\u001b[0m \u001b[0;32min\u001b[0m \u001b[0mpossibly_batched_index\u001b[0m\u001b[0;34m]\u001b[0m\u001b[0;34m\u001b[0m\u001b[0;34m\u001b[0m\u001b[0m\n\u001b[0m\u001b[1;32m     45\u001b[0m         \u001b[0;32melse\u001b[0m\u001b[0;34m:\u001b[0m\u001b[0;34m\u001b[0m\u001b[0;34m\u001b[0m\u001b[0m\n\u001b[1;32m     46\u001b[0m             \u001b[0mdata\u001b[0m \u001b[0;34m=\u001b[0m \u001b[0mself\u001b[0m\u001b[0;34m.\u001b[0m\u001b[0mdataset\u001b[0m\u001b[0;34m[\u001b[0m\u001b[0mpossibly_batched_index\u001b[0m\u001b[0;34m]\u001b[0m\u001b[0;34m\u001b[0m\u001b[0;34m\u001b[0m\u001b[0m\n",
      "\u001b[0;32m~/.local/share/virtualenvs/ethicsML-IsNwXYYM/lib/python3.7/site-packages/torch/utils/data/_utils/fetch.py\u001b[0m in \u001b[0;36m<listcomp>\u001b[0;34m(.0)\u001b[0m\n\u001b[1;32m     42\u001b[0m     \u001b[0;32mdef\u001b[0m \u001b[0mfetch\u001b[0m\u001b[0;34m(\u001b[0m\u001b[0mself\u001b[0m\u001b[0;34m,\u001b[0m \u001b[0mpossibly_batched_index\u001b[0m\u001b[0;34m)\u001b[0m\u001b[0;34m:\u001b[0m\u001b[0;34m\u001b[0m\u001b[0;34m\u001b[0m\u001b[0m\n\u001b[1;32m     43\u001b[0m         \u001b[0;32mif\u001b[0m \u001b[0mself\u001b[0m\u001b[0;34m.\u001b[0m\u001b[0mauto_collation\u001b[0m\u001b[0;34m:\u001b[0m\u001b[0;34m\u001b[0m\u001b[0;34m\u001b[0m\u001b[0m\n\u001b[0;32m---> 44\u001b[0;31m             \u001b[0mdata\u001b[0m \u001b[0;34m=\u001b[0m \u001b[0;34m[\u001b[0m\u001b[0mself\u001b[0m\u001b[0;34m.\u001b[0m\u001b[0mdataset\u001b[0m\u001b[0;34m[\u001b[0m\u001b[0midx\u001b[0m\u001b[0;34m]\u001b[0m \u001b[0;32mfor\u001b[0m \u001b[0midx\u001b[0m \u001b[0;32min\u001b[0m \u001b[0mpossibly_batched_index\u001b[0m\u001b[0;34m]\u001b[0m\u001b[0;34m\u001b[0m\u001b[0;34m\u001b[0m\u001b[0m\n\u001b[0m\u001b[1;32m     45\u001b[0m         \u001b[0;32melse\u001b[0m\u001b[0;34m:\u001b[0m\u001b[0;34m\u001b[0m\u001b[0;34m\u001b[0m\u001b[0m\n\u001b[1;32m     46\u001b[0m             \u001b[0mdata\u001b[0m \u001b[0;34m=\u001b[0m \u001b[0mself\u001b[0m\u001b[0;34m.\u001b[0m\u001b[0mdataset\u001b[0m\u001b[0;34m[\u001b[0m\u001b[0mpossibly_batched_index\u001b[0m\u001b[0;34m]\u001b[0m\u001b[0;34m\u001b[0m\u001b[0;34m\u001b[0m\u001b[0m\n",
      "\u001b[0;32m~/.local/share/virtualenvs/ethicsML-IsNwXYYM/lib/python3.7/site-packages/torch/utils/data/dataset.py\u001b[0m in \u001b[0;36m__getitem__\u001b[0;34m(self, idx)\u001b[0m\n\u001b[1;32m    255\u001b[0m \u001b[0;34m\u001b[0m\u001b[0m\n\u001b[1;32m    256\u001b[0m     \u001b[0;32mdef\u001b[0m \u001b[0m__getitem__\u001b[0m\u001b[0;34m(\u001b[0m\u001b[0mself\u001b[0m\u001b[0;34m,\u001b[0m \u001b[0midx\u001b[0m\u001b[0;34m)\u001b[0m\u001b[0;34m:\u001b[0m\u001b[0;34m\u001b[0m\u001b[0;34m\u001b[0m\u001b[0m\n\u001b[0;32m--> 257\u001b[0;31m         \u001b[0;32mreturn\u001b[0m \u001b[0mself\u001b[0m\u001b[0;34m.\u001b[0m\u001b[0mdataset\u001b[0m\u001b[0;34m[\u001b[0m\u001b[0mself\u001b[0m\u001b[0;34m.\u001b[0m\u001b[0mindices\u001b[0m\u001b[0;34m[\u001b[0m\u001b[0midx\u001b[0m\u001b[0;34m]\u001b[0m\u001b[0;34m]\u001b[0m\u001b[0;34m\u001b[0m\u001b[0;34m\u001b[0m\u001b[0m\n\u001b[0m\u001b[1;32m    258\u001b[0m \u001b[0;34m\u001b[0m\u001b[0m\n\u001b[1;32m    259\u001b[0m     \u001b[0;32mdef\u001b[0m \u001b[0m__len__\u001b[0m\u001b[0;34m(\u001b[0m\u001b[0mself\u001b[0m\u001b[0;34m)\u001b[0m\u001b[0;34m:\u001b[0m\u001b[0;34m\u001b[0m\u001b[0;34m\u001b[0m\u001b[0m\n",
      "\u001b[0;32m~/.local/share/virtualenvs/ethicsML-IsNwXYYM/lib/python3.7/site-packages/torch/utils/data/dataset.py\u001b[0m in \u001b[0;36m__getitem__\u001b[0;34m(self, index)\u001b[0m\n\u001b[1;32m    160\u001b[0m \u001b[0;34m\u001b[0m\u001b[0m\n\u001b[1;32m    161\u001b[0m     \u001b[0;32mdef\u001b[0m \u001b[0m__getitem__\u001b[0m\u001b[0;34m(\u001b[0m\u001b[0mself\u001b[0m\u001b[0;34m,\u001b[0m \u001b[0mindex\u001b[0m\u001b[0;34m)\u001b[0m\u001b[0;34m:\u001b[0m\u001b[0;34m\u001b[0m\u001b[0;34m\u001b[0m\u001b[0m\n\u001b[0;32m--> 162\u001b[0;31m         \u001b[0;32mreturn\u001b[0m \u001b[0mtuple\u001b[0m\u001b[0;34m(\u001b[0m\u001b[0mtensor\u001b[0m\u001b[0;34m[\u001b[0m\u001b[0mindex\u001b[0m\u001b[0;34m]\u001b[0m \u001b[0;32mfor\u001b[0m \u001b[0mtensor\u001b[0m \u001b[0;32min\u001b[0m \u001b[0mself\u001b[0m\u001b[0;34m.\u001b[0m\u001b[0mtensors\u001b[0m\u001b[0;34m)\u001b[0m\u001b[0;34m\u001b[0m\u001b[0;34m\u001b[0m\u001b[0m\n\u001b[0m\u001b[1;32m    163\u001b[0m \u001b[0;34m\u001b[0m\u001b[0m\n\u001b[1;32m    164\u001b[0m     \u001b[0;32mdef\u001b[0m \u001b[0m__len__\u001b[0m\u001b[0;34m(\u001b[0m\u001b[0mself\u001b[0m\u001b[0;34m)\u001b[0m\u001b[0;34m:\u001b[0m\u001b[0;34m\u001b[0m\u001b[0;34m\u001b[0m\u001b[0m\n",
      "\u001b[0;31mKeyboardInterrupt\u001b[0m: "
     ],
     "ename": "KeyboardInterrupt",
     "evalue": "",
     "output_type": "error"
    }
   ],
   "source": [
    "t_prog = trange(n_epochs, desc='Progress', leave=True)\n",
    "#t_prog = trange(50)\n",
    "\n",
    "for epoch in range(n_epochs):\n",
    "    model.train()\n",
    "\n",
    "    batch_losses = []\n",
    "    for x_batch, y_batch, _,s_batch in train_loader:\n",
    "        x_batch = x_batch.to(device)\n",
    "        y_batch = y_batch.to(device)\n",
    "        \n",
    "         # zero the parameter gradients\n",
    "        optimizer.zero_grad()\n",
    "\n",
    "        # forward + backward + optimize\n",
    "        outputs, outputs_protected = model(x_batch)\n",
    "        loss = criterion(outputs, y_batch) + criterion_bias(outputs_protected, s_batch.argmax(dim=1))\n",
    "        loss.backward()\n",
    "        optimizer.step()\n",
    "\n",
    "        batch_losses.append(loss.item())\n",
    "\n",
    "    training_loss = np.mean(batch_losses)\n",
    "    training_losses.append(training_loss)\n",
    "\n",
    "    with torch.no_grad():\n",
    "        val_losses = []\n",
    "        for x_val, y_val, _,s_val in val_loader:\n",
    "            x_val = x_val.to(device)\n",
    "            y_val = y_val.to(device)\n",
    "            model.eval()\n",
    "            yhat, s_hat = model(x_val)\n",
    "            val_loss = (criterion(y_val, yhat) + criterion_bias(s_val, s_hat.argmax(dim=1))).item()\n",
    "            val_losses.append(val_loss)\n",
    "        validation_loss = np.mean(val_losses)\n",
    "        validation_losses.append(validation_loss)\n",
    "    if epoch % 50 == 0:\n",
    "        print({\"epoch\": epoch, \"training_loss\": training_loss, \"validation_loss\": validation_loss})  # print last metrics"
   ],
   "metadata": {
    "collapsed": false,
    "pycharm": {
     "name": "#%%\n",
     "is_executing": false
    }
   }
  },
  {
   "cell_type": "code",
   "execution_count": null,
   "outputs": [],
   "source": [
    "criterion_bias(outputs_protected, s_batch.argmax(dim=1))"
   ],
   "metadata": {
    "collapsed": false,
    "pycharm": {
     "name": "#%%\n",
     "is_executing": false
    }
   }
  },
  {
   "cell_type": "code",
   "execution_count": null,
   "outputs": [],
   "source": [
    "s_batch"
   ],
   "metadata": {
    "collapsed": false,
    "pycharm": {
     "name": "#%%\n",
     "is_executing": false
    }
   }
  },
  {
   "cell_type": "code",
   "execution_count": 97,
   "outputs": [
    {
     "data": {
      "text/plain": "<Figure size 432x288 with 1 Axes>",
      "image/png": "[encoded data removed]"
     },
     "metadata": {},
     "output_type": "display_data"
    }
   ],
   "source": [
    "import matplotlib.pyplot as plt\n",
    "\n",
    "plt.plot(range(len(training_losses)), training_losses)\n",
    "plt.plot(range(len(validation_losses)), validation_losses)\n",
    "#plt.scatter(x_tensor, y_out.detach().numpy())\n",
    "plt.ylabel('some numbers')\n",
    "plt.show()"
   ],
   "metadata": {
    "collapsed": false,
    "pycharm": {
     "name": "#%%\n",
     "is_executing": false
    }
   }
  },
  {
   "cell_type": "code",
   "execution_count": 98,
   "outputs": [
    {
     "name": "stdout",
     "text": [
      "torch.Size([128, 1])\ntorch.Size([128, 1])\ntorch.Size([128, 1])\ntorch.Size([128, 1])\ntorch.Size([128, 1])\ntorch.Size([128, 1])\ntorch.Size([128, 1])\ntorch.Size([128, 1])\ntorch.Size([38, 1])\n{'Test loss': 9.743131720782383}\n"
     ],
     "output_type": "stream"
    }
   ],
   "source": [
    "with torch.no_grad():\n",
    "    test_losses = []\n",
    "    test_results = []\n",
    "    for x_test, y_test, ytrue, s_true in test_loader:\n",
    "        x_test = x_test.to(device)\n",
    "        y_test = y_test.to(device)\n",
    "        model.eval()\n",
    "        yhat, s_hat = model(x_test)\n",
    "        print(yhat.shape)\n",
    "        test_loss = (criterion(y_test, yhat) + criterion_bias(s_true, s_hat.argmax(dim=1))).item()\n",
    "        test_losses.append(val_loss)\n",
    "        test_results.append({\"y_hat\": yhat, \"y_true\": ytrue, \"y_compas\": y_test, \"s\": s_true, \"s_hat\": s_hat})\n",
    "    print({\"Test loss\": np.mean(test_losses)})\n",
    " "
   ],
   "metadata": {
    "collapsed": false,
    "pycharm": {
     "name": "#%%\n",
     "is_executing": false
    }
   }
  },
  {
   "cell_type": "code",
   "execution_count": 99,
   "outputs": [
    {
     "name": "stdout",
     "text": [
      "torch.Size([256, 1])\ntorch.Size([384, 1])\ntorch.Size([512, 1])\ntorch.Size([640, 1])\ntorch.Size([768, 1])\ntorch.Size([896, 1])\ntorch.Size([1024, 1])\ntorch.Size([1062, 1])\n"
     ],
     "output_type": "stream"
    }
   ],
   "source": [
    "results             = test_results[0]['y_hat']\n",
    "outcome             = test_results[0]['y_true']\n",
    "compas              = test_results[0]['y_compas']\n",
    "protected_results   = test_results[0]['s']\n",
    "protected              = test_results[0]['s_hat']\n",
    "for r in test_results[1:]:\n",
    "    results = torch.cat((results, r['y_hat']))\n",
    "    outcome = torch.cat((outcome, r['y_true']))\n",
    "    compas = torch.cat((compas, r['y_compas']))\n",
    "    protected_results = torch.cat((protected_results, r['s']))\n",
    "    protected = torch.cat((protected, r['s_hat']))\n",
    "    print(results.shape)\n",
    "   "
   ],
   "metadata": {
    "collapsed": false,
    "pycharm": {
     "name": "#%%\n",
     "is_executing": false
    }
   }
  },
  {
   "cell_type": "code",
   "execution_count": 99,
   "outputs": [],
   "source": [
    "                     "
   ],
   "metadata": {
    "collapsed": false,
    "pycharm": {
     "name": "#%%\n",
     "is_executing": false
    }
   }
  },
  {
   "cell_type": "code",
   "execution_count": 100,
   "outputs": [
    {
     "data": {
      "text/plain": "tensor(0.5471)"
     },
     "metadata": {},
     "output_type": "execute_result",
     "execution_count": 100
    }
   ],
   "source": [
    "((results[:,0] > 8) == outcome[:,0]).float().mean() "
   ],
   "metadata": {
    "collapsed": false,
    "pycharm": {
     "name": "#%%\n",
     "is_executing": false
    }
   }
  },
  {
   "cell_type": "code",
   "execution_count": 101,
   "outputs": [
    {
     "data": {
      "text/plain": "<Figure size 504x324 with 1 Axes>",
      "image/png": "[encoded data removed]"
     },
     "metadata": {},
     "output_type": "display_data"
    }
   ],
   "source": [
    "from sklearn.metrics import roc_curve, auc, confusion_matrix\n",
    "\n",
    "\n",
    "\n",
    "fig = plt.figure()\n",
    "fig.set_size_inches(7,4.5)\n",
    "plt.style.use('seaborn-whitegrid')\n",
    "plt.title('ROC of recidivism score within a two-year follow-up')\n",
    "\n",
    "# debiased ROC\n",
    "false_positive_rate, true_positive_rate, thresholds = roc_curve(outcome[:,0], results[:,0])\n",
    "roc_auc = auc(false_positive_rate, true_positive_rate)\n",
    "plt.plot(false_positive_rate, true_positive_rate, \"-\",\n",
    "    label='Naive (AUC = %0.2f)'% roc_auc,  linewidth=3)\n",
    "\n",
    "plt.plot([0,1],[0,1],'--', linewidth=3)\n",
    "\n",
    "# debiased ROC\n",
    "false_positive_rate, true_positive_rate, thresholds = roc_curve(outcome[:,0], compas[:,0])\n",
    "roc_auc = auc(false_positive_rate, true_positive_rate)\n",
    "plt.plot(false_positive_rate, true_positive_rate, \"-o\",\n",
    "    label='COMPAS (AUC = %0.2f)'% roc_auc,  linewidth=3)\n",
    "\n",
    "\n",
    "\n",
    "# COMPAS ROC\n",
    "#false_positive_rate, true_positive_rate, thresholds = roc_curve(prediction['two_year_recid'], prediction['true'])\n",
    "#roc_auc = auc(false_positive_rate, true_positive_rate)\n",
    "#plt.plot(false_positive_rate, true_positive_rate, \"-o\",\n",
    "#label='COMPAS decile (AUC = %0.2f)'% roc_auc,  linewidth=3)\n",
    "\n",
    "plt.legend(loc='lower right')\n",
    "\n",
    "\n",
    "plt.xlim([0, 1])\n",
    "plt.ylim([0, 1])\n",
    "plt.ylabel('True Positive Rate')\n",
    "plt.xlabel('False Positive Rate')\n",
    "plt.tight_layout()\n",
    "plt.show()"
   ],
   "metadata": {
    "collapsed": false,
    "pycharm": {
     "name": "#%%\n",
     "is_executing": false
    }
   }
  },
  {
   "cell_type": "code",
   "execution_count": 102,
   "outputs": [
    {
     "data": {
      "text/plain": "<Figure size 504x324 with 1 Axes>",
      "image/png": "[encoded data removed]"
     },
     "metadata": {},
     "output_type": "display_data"
    }
   ],
   "source": [
    "from sklearn.metrics import roc_curve, auc, confusion_matrix\n",
    "\n",
    "\n",
    "\n",
    "fig = plt.figure()\n",
    "fig.set_size_inches(7,4.5)\n",
    "plt.style.use('seaborn-whitegrid')\n",
    "plt.title('ROC of recidivism score within a two-year follow-up')\n",
    "\n",
    "# debiased ROC\n",
    "false_positive_rate, true_positive_rate, thresholds = roc_curve(protected_results[:,0], protected[:,0])\n",
    "roc_auc = auc(false_positive_rate, true_positive_rate)\n",
    "plt.plot(false_positive_rate, true_positive_rate, \"-\",\n",
    "    label='Debiased (AUC = %0.2f)'% roc_auc,  linewidth=3)\n",
    "\n",
    "plt.plot([0,1],[0,1],'--', linewidth=3)\n",
    "\n",
    "# COMPAS ROC\n",
    "#false_positive_rate, true_positive_rate, thresholds = roc_curve(prediction['two_year_recid'], prediction['true'])\n",
    "#roc_auc = auc(false_positive_rate, true_positive_rate)\n",
    "#plt.plot(false_positive_rate, true_positive_rate, \"-o\",\n",
    "#label='COMPAS decile (AUC = %0.2f)'% roc_auc,  linewidth=3)\n",
    "\n",
    "plt.legend(loc='lower right')\n",
    "\n",
    "\n",
    "plt.xlim([0, 1])\n",
    "plt.ylim([0, 1])\n",
    "plt.ylabel('True Positive Rate')\n",
    "plt.xlabel('False Positive Rate')\n",
    "plt.tight_layout()\n",
    "plt.show()\n",
    "#fig.savefig(\"roc_curve.png\", dpi=300,  transparent=True)"
   ],
   "metadata": {
    "collapsed": false,
    "pycharm": {
     "name": "#%%\n",
     "is_executing": false
    }
   }
  },
  {
   "cell_type": "code",
   "execution_count": 68,
   "outputs": [
    {
     "data": {
      "text/plain": "tensor([ 0.7203,  0.0000,  0.1002,  ...,  0.2929,  0.0000, -0.2357])"
     },
     "metadata": {},
     "output_type": "execute_result",
     "execution_count": 68
    }
   ],
   "source": [
    "protected[:,0]"
   ],
   "metadata": {
    "collapsed": false,
    "pycharm": {
     "name": "#%%\n",
     "is_executing": false
    }
   }
  },
  {
   "cell_type": "code",
   "execution_count": null,
   "outputs": [],
   "source": [
    "criterion(yhat, y_val)"
   ],
   "metadata": {
    "collapsed": false,
    "pycharm": {
     "name": "#%%\n"
    }
   }
  },
  {
   "cell_type": "code",
   "execution_count": null,
   "outputs": [],
   "source": [
    "x = np.random.rand(100, 1)\n",
    "true_a, true_b = 1, 2\n",
    "y = true_a + true_b*x + 0.1*np.random.randn(100, 1)\n",
    "\n",
    "x_tensor = torch.from_numpy(x).float()\n",
    "y_tensor = torch.from_numpy(y).float()\n",
    "y_out = model(x_tensor.to(device))"
   ],
   "metadata": {
    "collapsed": false,
    "pycharm": {
     "name": "#%%\n",
     "is_executing": false
    }
   }
  },
  {
   "cell_type": "code",
   "execution_count": null,
   "outputs": [],
   "source": [
    "x_val = x_val.to(device)\n",
    "y_val = y_val.to(device)\n",
    "model.eval()\n",
    "yhat = model(x_val)\n",
    "val_loss = loss_fn(y_val, yhat).item()\n",
    "\n"
   ],
   "metadata": {
    "collapsed": false,
    "pycharm": {
     "name": "#%%\n",
     "is_executing": false
    }
   }
  },
  {
   "cell_type": "code",
   "execution_count": 44,
   "outputs": [
    {
     "traceback": [
      "\u001b[0;31m---------------------------------------------------------------------------\u001b[0m",
      "\u001b[0;31mRuntimeError\u001b[0m                              Traceback (most recent call last)",
      "\u001b[0;32m<ipython-input-44-4d3f0cccde31>\u001b[0m in \u001b[0;36m<module>\u001b[0;34m\u001b[0m\n\u001b[0;32m----> 1\u001b[0;31m \u001b[0mnp\u001b[0m\u001b[0;34m.\u001b[0m\u001b[0mpower\u001b[0m\u001b[0;34m(\u001b[0m\u001b[0my_val\u001b[0m \u001b[0;34m-\u001b[0m \u001b[0myhat\u001b[0m\u001b[0;34m,\u001b[0m \u001b[0;36m2\u001b[0m\u001b[0;34m)\u001b[0m\u001b[0;34m.\u001b[0m\u001b[0mmean\u001b[0m\u001b[0;34m(\u001b[0m\u001b[0;34m)\u001b[0m\u001b[0;34m\u001b[0m\u001b[0;34m\u001b[0m\u001b[0m\n\u001b[0m",
      "\u001b[0;32m~/.local/share/virtualenvs/ethicsML-IsNwXYYM/lib/python3.7/site-packages/torch/tensor.py\u001b[0m in \u001b[0;36m__array__\u001b[0;34m(self, dtype)\u001b[0m\n\u001b[1;32m    484\u001b[0m     \u001b[0;32mdef\u001b[0m \u001b[0m__array__\u001b[0m\u001b[0;34m(\u001b[0m\u001b[0mself\u001b[0m\u001b[0;34m,\u001b[0m \u001b[0mdtype\u001b[0m\u001b[0;34m=\u001b[0m\u001b[0;32mNone\u001b[0m\u001b[0;34m)\u001b[0m\u001b[0;34m:\u001b[0m\u001b[0;34m\u001b[0m\u001b[0;34m\u001b[0m\u001b[0m\n\u001b[1;32m    485\u001b[0m         \u001b[0;32mif\u001b[0m \u001b[0mdtype\u001b[0m \u001b[0;32mis\u001b[0m \u001b[0;32mNone\u001b[0m\u001b[0;34m:\u001b[0m\u001b[0;34m\u001b[0m\u001b[0;34m\u001b[0m\u001b[0m\n\u001b[0;32m--> 486\u001b[0;31m             \u001b[0;32mreturn\u001b[0m \u001b[0mself\u001b[0m\u001b[0;34m.\u001b[0m\u001b[0mnumpy\u001b[0m\u001b[0;34m(\u001b[0m\u001b[0;34m)\u001b[0m\u001b[0;34m\u001b[0m\u001b[0;34m\u001b[0m\u001b[0m\n\u001b[0m\u001b[1;32m    487\u001b[0m         \u001b[0;32melse\u001b[0m\u001b[0;34m:\u001b[0m\u001b[0;34m\u001b[0m\u001b[0;34m\u001b[0m\u001b[0m\n\u001b[1;32m    488\u001b[0m             \u001b[0;32mreturn\u001b[0m \u001b[0mself\u001b[0m\u001b[0;34m.\u001b[0m\u001b[0mnumpy\u001b[0m\u001b[0;34m(\u001b[0m\u001b[0;34m)\u001b[0m\u001b[0;34m.\u001b[0m\u001b[0mastype\u001b[0m\u001b[0;34m(\u001b[0m\u001b[0mdtype\u001b[0m\u001b[0;34m,\u001b[0m \u001b[0mcopy\u001b[0m\u001b[0;34m=\u001b[0m\u001b[0;32mFalse\u001b[0m\u001b[0;34m)\u001b[0m\u001b[0;34m\u001b[0m\u001b[0;34m\u001b[0m\u001b[0m\n",
      "\u001b[0;31mRuntimeError\u001b[0m: Can't call numpy() on Variable that requires grad. Use var.detach().numpy() instead."
     ],
     "ename": "RuntimeError",
     "evalue": "Can't call numpy() on Variable that requires grad. Use var.detach().numpy() instead.",
     "output_type": "error"
    }
   ],
   "source": [
    "np.power(y_val - yhat, 2).mean()"
   ],
   "metadata": {
    "collapsed": false,
    "pycharm": {
     "name": "#%%\n",
     "is_executing": false
    }
   }
  },
  {
   "cell_type": "code",
   "execution_count": 144,
   "outputs": [
    {
     "name": "stdout",
     "text": [
      "tensor([[0., 0., 0., 0., 0., 0., 0., 0., 0., 0., 0., 0., 0., 0.],\n        [0., 0., 0., 0., 0., 0., 0., 0., 0., 0., 0., 0., 0., 0.],\n        [0., 0., 0., 0., 0., 0., 0., 0., 0., 0., 0., 0., 0., 0.],\n        [0., 0., 0., 0., 0., 0., 0., 0., 0., 0., 0., 0., 0., 0.],\n        [0., 0., 0., 0., 0., 0., 0., 0., 0., 0., 0., 0., 0., 0.],\n        [0., 0., 0., 0., 0., 0., 0., 0., 0., 0., 0., 0., 0., 0.],\n        [0., 0., 0., 0., 0., 0., 0., 0., 0., 0., 0., 0., 0., 0.],\n        [0., 0., 0., 0., 0., 0., 0., 0., 0., 0., 0., 0., 0., 0.],\n        [0., 0., 0., 0., 0., 0., 0., 0., 0., 0., 0., 0., 0., 0.],\n        [0., 0., 0., 0., 0., 0., 0., 0., 0., 0., 0., 0., 0., 0.],\n        [0., 0., 0., 0., 0., 0., 0., 0., 0., 0., 0., 0., 0., 0.],\n        [0., 0., 0., 0., 0., 0., 0., 0., 0., 0., 0., 0., 0., 0.],\n        [0., 0., 0., 0., 0., 0., 0., 0., 0., 0., 0., 0., 0., 0.],\n        [0., 0., 0., 0., 0., 0., 0., 0., 0., 0., 0., 0., 0., 0.]])\ntensor([0., 0., 0., 0., 0., 0., 0., 0., 0., 0., 0., 0., 0., 0.])\ntensor([[0., 0., 0., 0., 0., 0., 0., 0., 0., 0., 0., 0., 0., 0.]])\ntensor([0.])\n"
     ],
     "output_type": "stream"
    }
   ],
   "source": [
    "for param in model.parameters():\n",
    "    print(param.grad.data)"
   ],
   "metadata": {
    "collapsed": false,
    "pycharm": {
     "name": "#%%\n",
     "is_executing": false
    }
   }
  },
  {
   "cell_type": "code",
   "execution_count": 155,
   "outputs": [
    {
     "data": {
      "text/plain": "[Parameter containing:\n tensor([[ 4.0856e-01,  5.5243e-01,  2.1139e-01,  2.6691e-01,  3.7668e-01,\n           4.7115e-01,  3.0615e-01,  5.7431e-01,  6.8628e-01,  1.2031e-01,\n           6.4158e-01,  4.5927e-01,  5.3671e-01,  2.6466e-01],\n         [ 3.4428e-01,  3.1861e-01,  4.9203e-01,  7.5094e-02,  3.5684e-01,\n           5.0246e-01,  3.3781e-01,  4.1498e-01,  3.6497e-01,  5.1734e-01,\n           2.2656e-01,  3.1429e-01,  2.8738e-01,  8.8778e-02],\n         [-1.2733e-01, -3.1131e-01,  1.5977e-01, -2.3552e-01,  1.0989e-01,\n          -1.0126e-02, -1.5756e-01,  7.8926e-02, -6.4677e-02,  1.2641e-01,\n          -5.6828e-02, -1.7025e-01, -1.7776e-02, -1.4091e-01],\n         [ 5.6479e-02,  1.4419e-01,  9.9368e-02, -1.5950e-01, -2.0727e-03,\n          -5.8372e-02,  2.1892e-02, -2.5891e-01, -3.7247e-01, -1.8967e-01,\n          -3.0807e-01,  1.1621e-01, -8.6486e-03,  1.6472e-02],\n         [ 8.4524e-02, -4.6493e-03,  2.0916e-01, -1.8989e-01,  1.6828e-02,\n          -1.8242e-01,  8.2411e-02, -9.2040e-02,  8.1893e-02, -5.5682e-02,\n           2.2166e-01, -1.5841e-01, -1.5939e-01, -1.5940e-01],\n         [ 4.4171e-01,  4.1337e-01,  5.2102e-01, -1.8678e-01,  1.7048e-01,\n           1.9535e-01,  2.4427e-01,  5.1515e-01,  5.3213e-01,  5.3193e-01,\n           2.6242e-01,  2.1822e-01,  4.6953e-01,  1.2857e-01],\n         [ 3.9389e-01,  3.1397e-01,  4.6504e-01, -1.8049e-01,  3.5341e-01,\n           5.4514e-01,  5.4248e-01,  3.9985e-01,  6.6539e-01,  5.4319e-01,\n           2.6692e-01,  3.1802e-01,  6.3121e-01,  1.7048e-01],\n         [ 1.0489e-01, -7.2724e-02,  9.9731e-02,  4.7338e-01, -5.1722e-01,\n          -5.9755e-01, -4.5784e-01, -6.0038e-01, -7.8662e-01,  4.8911e-02,\n          -6.3479e-01, -5.7097e-01,  2.7695e-01,  4.3003e-01],\n         [ 8.2359e-02, -2.4927e-01, -1.7553e-01, -8.8959e-02,  4.1792e-02,\n          -2.3517e-01, -1.1516e-01, -1.6000e-01,  7.4065e-04, -9.9449e-02,\n          -1.8520e-02, -1.8110e-01, -1.8345e-01, -1.5592e-01],\n         [-1.1130e-01, -2.1429e-01,  2.1514e-01, -5.3042e-02,  2.1122e-01,\n           8.3274e-02, -2.2966e-01,  1.6824e-01, -1.0013e-01, -1.2046e-01,\n          -2.3170e-01, -2.7578e-01,  5.6701e-02, -5.8382e-02],\n         [ 6.7417e-02, -2.2133e-01,  1.6174e-01, -1.9618e-01, -4.6149e-02,\n           4.3952e-02,  1.0706e-01,  1.8997e-01,  2.0410e-01, -2.4221e-01,\n           4.8677e-02, -1.3351e-01, -6.5967e-02, -2.0004e-01],\n         [ 4.6536e-01,  2.1339e-01,  4.7943e-01,  1.6270e-01,  5.8922e-01,\n           3.0612e-01,  7.0739e-01,  5.1692e-01,  5.5335e-01,  1.5273e-01,\n           5.7260e-01,  4.2029e-01,  2.9815e-01,  4.8933e-01],\n         [-2.1597e-02, -1.6557e-01, -1.4079e-01, -3.9417e-02,  8.3247e-02,\n          -8.4838e-02, -1.9048e-01, -1.2985e-01, -2.4644e-01,  3.3672e-02,\n           1.7015e-01, -2.8830e-01,  1.2299e-02,  7.0719e-02],\n         [ 9.3735e-02,  2.6333e-01,  3.6782e-01, -1.0256e-01,  5.8652e-01,\n           4.1260e-01,  4.1875e-01,  4.8967e-01,  4.6300e-01,  2.4681e-01,\n           6.0308e-01,  6.6188e-01,  3.3294e-01,  7.7306e-02]],\n        requires_grad=True),\n Parameter containing:\n tensor([ 0.3160,  0.3197, -0.0230, -0.0136, -0.2427,  0.2075,  0.5817,  0.3298,\n         -0.0133, -0.1809, -0.2002,  0.1436, -0.1493,  0.4079],\n        requires_grad=True),\n Parameter containing:\n tensor([[ 0.5279,  0.5118, -0.1591, -0.0990, -0.0422,  0.6141,  0.3862, -0.5546,\n           0.1106, -0.0808, -0.1467,  0.6506, -0.0667,  0.4385]],\n        requires_grad=True),\n Parameter containing:\n tensor([-0.0108], requires_grad=True)]"
     },
     "metadata": {},
     "output_type": "execute_result",
     "execution_count": 155
    }
   ],
   "source": [
    "list(model.parameters())"
   ],
   "metadata": {
    "collapsed": false,
    "pycharm": {
     "name": "#%%\n",
     "is_executing": false
    }
   }
  },
  {
   "cell_type": "code",
   "execution_count": 21,
   "outputs": [
    {
     "traceback": [
      "\u001b[0;31m---------------------------------------------------------------------------\u001b[0m",
      "\u001b[0;31mTypeError\u001b[0m                                 Traceback (most recent call last)",
      "\u001b[0;32m<ipython-input-21-9a90eb8c0a3a>\u001b[0m in \u001b[0;36m<module>\u001b[0;34m\u001b[0m\n\u001b[0;32m----> 1\u001b[0;31m \u001b[0mlen\u001b[0m\u001b[0;34m(\u001b[0m\u001b[0mmodel\u001b[0m\u001b[0;34m.\u001b[0m\u001b[0mparameters\u001b[0m\u001b[0;34m(\u001b[0m\u001b[0;34m)\u001b[0m\u001b[0;34m)\u001b[0m\u001b[0;34m\u001b[0m\u001b[0;34m\u001b[0m\u001b[0m\n\u001b[0m",
      "\u001b[0;31mTypeError\u001b[0m: object of type 'generator' has no len()"
     ],
     "ename": "TypeError",
     "evalue": "object of type 'generator' has no len()",
     "output_type": "error"
    }
   ],
   "source": [
    "\n",
    "\n",
    "model.parameters()"
   ],
   "metadata": {
    "collapsed": false,
    "pycharm": {
     "name": "#%%\n",
     "is_executing": false
    }
   }
  },
  {
   "cell_type": "code",
   "execution_count": 226,
   "outputs": [
    {
     "data": {
      "text/plain": "Parameter containing:\ntensor([[-0.4596, -0.4801, -0.1890, -0.2595, -0.1941, -0.3064, -0.3068, -0.3105,\n         -0.1559, -0.4852, -0.2427, -0.1537, -0.1453, -0.1283],\n        [ 0.0691, -0.4681, -0.1008,  0.1321, -0.3256, -0.0397, -0.7015, -0.4624,\n         -0.4131, -0.5376, -0.3318, -0.0903, -0.1572,  0.0254],\n        [ 0.0171,  0.2248,  0.3542,  0.4232,  0.0694, -0.1471, -0.1106,  0.1885,\n          0.0746,  0.2128, -0.1539, -0.1257,  0.2850,  0.2253],\n        [-0.0057,  0.3682,  0.0051, -0.0668,  0.2217, -0.0569, -0.1469, -0.1675,\n          0.1199,  0.0864,  0.2091, -0.1216,  0.0618,  0.3818],\n        [ 0.0100, -0.1024, -0.0256, -0.2190, -0.1881,  0.2503, -0.0588, -0.0789,\n          0.0528,  0.0900,  0.0964,  0.1084,  0.1324,  0.2158],\n        [-0.1257, -0.3449, -0.2762, -0.1400, -0.2011,  0.2535, -0.1990, -0.4669,\n         -0.5584, -0.5050, -0.2395, -0.1720, -0.2228, -0.2790],\n        [-0.0457, -0.1406,  0.0594, -0.0862, -0.4932, -0.0511, -0.5229, -0.3231,\n         -0.4434,  0.0134, -0.2175, -0.4088,  0.0222,  0.1113],\n        [-0.0747, -0.4870, -0.2674, -0.0131, -0.1029, -0.4786,  0.0773, -0.6640,\n         -0.2425, -0.0389, -0.2772, -0.5379, -0.0854, -0.1475],\n        [ 0.3711, -0.2134, -0.0643,  0.0465, -0.0602, -0.1429, -0.2696, -0.0304,\n          0.0644, -0.0842,  0.1096, -0.1016,  0.1001,  0.0100],\n        [-0.2604, -0.2387, -0.1891, -0.1685, -0.4439, -0.3509, -0.5507, -0.3932,\n         -0.1567, -0.0071, -0.5366, -0.3694, -0.0457, -0.4448],\n        [ 0.1385, -0.2787, -0.6596, -0.1010, -0.4903, -0.2531, -0.6653, -0.1616,\n         -0.4201, -0.0504, -0.3804, -0.4364, -0.0405, -0.0978],\n        [ 0.0131, -0.4461, -0.2212, -0.4526, -0.0908, -0.2082, -0.0276,  0.0900,\n         -0.3308,  0.0625, -0.0341, -0.1785, -0.4211, -0.3224],\n        [ 0.2259,  0.2537,  0.2278,  0.1555, -0.2318, -0.1726, -0.2454, -0.1191,\n          0.0308,  0.1014, -0.2040,  0.1290,  0.3230, -0.1847],\n        [-0.1862, -0.3618, -0.2490,  0.0666, -0.2457, -0.0526, -0.0840, -0.0905,\n         -0.5087, -0.4334, -0.2456, -0.2295, -0.2777, -0.0139],\n        [ 0.0787, -0.3628, -0.4199, -0.1150, -0.1278, -0.1147, -0.1370, -0.2606,\n         -0.1923, -0.0275, -0.0706, -0.2555, -0.4868, -0.0252],\n        [-0.3221, -0.4917, -0.0445, -0.1036, -0.1228, -0.0258,  0.0902,  0.1922,\n         -0.3403, -0.4922, -0.4119, -0.3864, -0.2711, -0.1815],\n        [ 0.2141, -0.0930, -0.5361,  0.2018, -0.1709,  0.1069, -0.2265, -0.2113,\n         -0.4057, -0.3555, -0.1587,  0.0672, -0.3878, -0.0776],\n        [-0.1842, -0.2071, -0.0983, -0.1789, -0.2211, -0.0820, -0.0365,  0.1331,\n          0.1229, -0.0035, -0.0610, -0.0568, -0.2195,  0.1858],\n        [ 0.1203, -0.5131, -0.5720, -0.6205, -0.0552, -0.4268, -0.0291, -0.1209,\n         -0.2849, -0.3169, -0.7199, -0.2523,  0.0545,  0.0977],\n        [ 0.0849,  0.2195,  0.2196, -0.0546,  0.2608, -0.1596, -0.0708,  0.1511,\n         -0.1878, -0.2023, -0.1300, -0.1253,  0.3220,  0.1276],\n        [-0.0298, -0.2650, -0.0129, -0.2378, -0.4691, -0.3003,  0.0305,  0.0033,\n          0.0137, -0.1471, -0.4191, -0.1768,  0.0718, -0.3615],\n        [ 0.3237,  0.0240, -0.0359,  0.0407,  0.0899, -0.1741, -0.0572, -0.5183,\n         -0.1837, -0.1888,  0.0666, -0.3946,  0.1750, -0.3730],\n        [ 0.1871, -0.1499, -0.4958, -0.2274,  0.2640, -0.0113, -0.3658, -0.2986,\n         -0.0327, -0.1497, -0.2674, -0.2810, -0.2135, -0.2062],\n        [ 0.0985,  0.2480, -0.0207,  0.0292,  0.1325, -0.0525,  0.1543,  0.1124,\n         -0.0044, -0.2623,  0.0397,  0.1919,  0.1649,  0.1709],\n        [-0.3656, -0.5636, -0.1005, -0.2917, -0.0486, -0.2444, -0.3493, -0.3642,\n         -0.3488, -0.4311, -0.4106, -0.2490, -0.1175, -0.0367],\n        [ 0.0267, -0.5285, -0.0454, -0.0050, -0.3809, -0.2218, -0.1919, -0.4125,\n         -0.2163, -0.2546, -0.1772, -0.2330, -0.0121, -0.0767],\n        [-0.4826, -0.1622, -0.4056, -0.4506, -0.2118, -0.3715, -0.4579, -0.5458,\n         -0.4671, -0.3002, -0.1557, -0.1611, -0.2251, -0.0729],\n        [-0.4613, -0.4820, -0.1458, -0.5437, -0.1129, -0.0978, -0.4416, -0.1300,\n         -0.1626, -0.0807, -0.1198, -0.3678, -0.0506, -0.2463],\n        [ 0.1586,  0.1293, -0.1985, -0.1168,  0.3913, -0.1579,  0.2205,  0.1468,\n         -0.2252, -0.0937, -0.0922,  0.1090, -0.0840,  0.3753],\n        [ 0.0525,  0.2416,  0.2714,  0.1063,  0.1012, -0.0693,  0.0543,  0.0914,\n         -0.0297,  0.1980,  0.0036,  0.0032,  0.3674,  0.1995],\n        [ 0.3555,  0.2276, -0.0979,  0.1217,  0.2474, -0.1066, -0.0148,  0.1307,\n          0.0320, -0.1527,  0.0879, -0.2294,  0.3180,  0.2995],\n        [ 0.1197, -0.0402,  0.0198,  0.3762, -0.0298,  0.1071, -0.3143, -0.0010,\n          0.1591,  0.0040, -0.0435, -0.0110,  0.3172,  0.1878],\n        [-0.1746, -0.5149, -0.0128, -0.3998, -0.1152, -0.3168, -0.3280, -0.5203,\n         -0.3306, -0.2131, -0.5145, -0.3107, -0.0383, -0.0836],\n        [ 0.3906, -0.1095,  0.0424, -0.2778,  0.1510,  0.0426,  0.0792, -0.1422,\n          0.1802,  0.1232,  0.1023, -0.1430, -0.1721, -0.2313],\n        [-0.2649, -0.0375, -0.3583, -0.1199, -0.0384,  0.2054, -0.3146, -0.0694,\n         -0.1138, -0.1383, -0.2798, -0.3694,  0.0565, -0.2982],\n        [-0.4838,  0.1287, -0.1450, -0.3517, -0.0907, -0.0954, -0.4027, -0.4627,\n         -0.1658, -0.2890, -0.0018, -0.1805,  0.1449, -0.1169],\n        [ 0.1886, -0.0258, -0.1062,  0.1350, -0.1952, -0.1060,  0.1341, -0.1510,\n          0.1881,  0.0653, -0.1308, -0.2894,  0.2822,  0.0185],\n        [ 0.2179, -0.5420,  0.0257, -0.6754,  0.0401,  0.0970, -0.4856, -0.3267,\n          0.0871, -0.1262, -0.1551,  0.1220,  0.0173, -0.1281],\n        [ 0.2896,  0.0849,  0.1436,  0.1991,  0.1944, -0.2809, -0.1759, -0.3150,\n         -0.1972,  0.0371, -0.4318, -0.0742, -0.2523, -0.0060],\n        [-0.2970, -0.2637, -0.2775, -0.1354,  0.0804, -0.1452,  0.0433, -0.3231,\n         -0.4585,  0.0227, -0.3322, -0.3690, -0.1354, -0.2898],\n        [ 0.2671, -0.1102, -0.1660,  0.2486,  0.1772,  0.3275, -0.0962, -0.1858,\n         -0.0993, -0.1044, -0.1846, -0.1914, -0.0956,  0.0969],\n        [ 0.1480, -0.0300, -0.6864,  0.0765, -0.1781, -0.6770,  0.0121, -0.3853,\n         -0.3928, -0.1341, -0.2176, -0.0794, -0.4181, -0.0173],\n        [-0.0546, -0.0836, -0.3892, -0.0984, -0.1340, -0.1743, -0.4093, -0.4956,\n         -0.5629, -0.2107, -0.4911, -0.3379, -0.4252, -0.1816],\n        [-0.3206,  0.2036, -0.2726, -0.1034,  0.1288, -0.2170,  0.0458, -0.1871,\n         -0.1726,  0.1233, -0.1650, -0.0156, -0.0845,  0.1555],\n        [ 0.4015,  0.2656, -0.1377, -0.2198, -0.1350,  0.0836,  0.0347,  0.0210,\n          0.0699,  0.1431, -0.2884, -0.2949, -0.0262,  0.1012],\n        [-0.4725,  0.2612,  0.0715,  0.1392,  0.2284,  0.2854,  0.2063, -0.1473,\n         -0.1348,  0.0041,  0.1420, -0.0794, -0.0195, -0.0903],\n        [ 0.0317,  0.0703, -0.5406,  0.3740,  0.0469, -0.3214, -0.2253, -0.3097,\n         -0.3492, -0.0795, -0.1632, -0.2227, -0.0878, -0.0775],\n        [-0.1825, -0.2162, -0.3065, -0.3039, -0.2185,  0.2464, -0.4268, -0.0882,\n         -0.0954, -0.2930, -0.1012, -0.5013, -0.3297,  0.0798],\n        [-0.0787,  0.0291,  0.2404, -0.2270, -0.4274, -0.1081, -0.2019, -0.4001,\n         -0.2804, -0.1405,  0.1486, -0.0621, -0.2024,  0.1263],\n        [ 0.4838,  0.3505,  0.1588,  0.2088,  0.3989,  0.2722,  0.2264,  0.2157,\n          0.0182,  0.2161,  0.1356,  0.3498,  0.4545,  0.4153],\n        [-0.0345, -0.0409, -0.3596, -0.3516, -0.3174, -0.4348, -0.1314, -0.2791,\n         -0.3570, -0.3810, -0.5723, -0.3156,  0.0150, -0.1288],\n        [ 0.4281,  0.2749,  0.2132,  0.1458, -0.0867,  0.2694, -0.2336, -0.2444,\n          0.1383,  0.0917, -0.1326,  0.1759, -0.1347,  0.1764],\n        [ 0.2956, -0.0729, -0.2492, -0.3721,  0.2160,  0.0220, -0.2364,  0.1904,\n         -0.1947, -0.1346, -0.0504,  0.1033, -0.2255, -0.0400],\n        [-0.4161, -0.3940, -0.3367, -0.3006, -0.0254, -0.4638, -0.1276,  0.0547,\n         -0.3237, -0.3026, -0.2266, -0.5370, -0.0817, -0.3470],\n        [ 0.2455,  0.2182,  0.2100,  0.0346, -0.0702, -0.1887, -0.2608, -0.1098,\n         -0.1768, -0.0917, -0.1336,  0.1594,  0.3041,  0.3371],\n        [-0.4698, -0.4881, -0.2076, -0.0610, -0.0900, -0.5454, -0.0448, -0.4856,\n         -0.5137, -0.3279, -0.4166, -0.4667, -0.1477, -0.0906],\n        [ 0.3703,  0.0537,  0.0119, -0.0807,  0.3226, -0.1327, -0.3326,  0.1396,\n         -0.0592,  0.0986, -0.1325,  0.1646, -0.1426,  0.2365],\n        [ 0.4335, -0.1532,  0.1026,  0.0335, -0.6276, -0.1233, -0.4115, -0.1428,\n         -0.3832, -0.2102, -0.2365, -0.2607, -0.5113, -0.1338],\n        [-0.0465, -0.3359, -0.5968, -0.0625, -0.0280,  0.2452, -0.3024, -0.3464,\n         -0.3750,  0.1641, -0.1896, -0.2266,  0.0668, -0.4253],\n        [-0.3709, -0.0734, -0.1755, -0.5076, -0.3737, -0.3188, -0.1969, -0.4207,\n         -0.1372, -0.3157, -0.5450, -0.2423, -0.5597, -0.2938],\n        [-0.5391, -0.2419, -0.1988, -0.5598, -0.3090, -0.2715, -0.3496, -0.1428,\n         -0.0285, -0.1389, -0.4593, -0.1978, -0.3933, -0.0351],\n        [-0.0652, -0.2485, -0.0254,  0.2411, -0.2953, -0.0592, -0.2533, -0.3936,\n         -0.0777, -0.0516, -0.0720,  0.0034,  0.0577,  0.1017],\n        [-0.2816, -0.3644, -0.0017, -0.0228, -0.1460,  0.0868, -0.1155, -0.0620,\n         -0.0139, -0.4620, -0.5276, -0.4144, -0.0540,  0.0202],\n        [ 0.1748, -0.2907, -0.0814,  0.1407,  0.0782, -0.0633, -0.3073,  0.0600,\n          0.1905, -0.2034, -0.2876,  0.0104, -0.4518,  0.2337]],\n       requires_grad=True)"
     },
     "metadata": {},
     "output_type": "execute_result",
     "execution_count": 226
    }
   ],
   "source": [
    "next(model.parameters())"
   ],
   "metadata": {
    "collapsed": false,
    "pycharm": {
     "name": "#%%\n",
     "is_executing": false
    }
   }
  },
  {
   "cell_type": "code",
   "execution_count": 58,
   "outputs": [
    {
     "data": {
      "text/plain": "array([ 4.,  1.,  2.,  3.,  6.,  6.,  3.,  9.,  3.,  8.,  8.,  7.,  3.,\n        2.,  6.,  6.,  2.,  5., 10.,  3.,  8.,  1.,  5.,  4.,  3.,  2.,\n        6.,  6.,  9.,  1.,  5.,  1.])"
     },
     "metadata": {},
     "output_type": "execute_result",
     "execution_count": 58
    }
   ],
   "source": [
    "from sklearn import tree\n",
    "\n",
    "tree.ExtraTreeRegressor().fit(x_tensor[:3000], y_tensor[:3000]).predict(x_val)"
   ],
   "metadata": {
    "collapsed": false,
    "pycharm": {
     "name": "#%%\n",
     "is_executing": false
    }
   }
  },
  {
   "cell_type": "code",
   "execution_count": 59,
   "outputs": [
    {
     "data": {
      "text/plain": "tensor([[ 4.],\n        [ 1.],\n        [ 2.],\n        [ 1.],\n        [ 6.],\n        [ 6.],\n        [ 3.],\n        [ 3.],\n        [ 3.],\n        [ 8.],\n        [ 3.],\n        [ 3.],\n        [ 8.],\n        [ 2.],\n        [ 4.],\n        [ 6.],\n        [ 2.],\n        [ 5.],\n        [10.],\n        [ 2.],\n        [10.],\n        [ 8.],\n        [ 2.],\n        [ 4.],\n        [ 2.],\n        [ 1.],\n        [ 6.],\n        [ 3.],\n        [ 8.],\n        [ 5.],\n        [ 5.],\n        [ 1.]])"
     },
     "metadata": {},
     "output_type": "execute_result",
     "execution_count": 59
    }
   ],
   "source": [
    "y_val\n",
    "\n"
   ],
   "metadata": {
    "collapsed": false,
    "pycharm": {
     "name": "#%%\n",
     "is_executing": false
    }
   }
  },
  {
   "cell_type": "code",
   "execution_count": null,
   "outputs": [],
   "source": [
    "\n"
   ],
   "metadata": {
    "collapsed": false,
    "pycharm": {
     "name": "#%%\n"
    }
   }
  }
 ],
 "metadata": {
  "kernelspec": {
   "display_name": "Python 3",
   "language": "python",
   "name": "python3"
  },
  "language_info": {
   "codemirror_mode": {
    "name": "ipython",
    "version": 2
   },
   "file_extension": ".py",
   "mimetype": "text/x-python",
   "name": "python",
   "nbconvert_exporter": "python",
   "pygments_lexer": "ipython2",
   "version": "2.7.6"
  },
  "pycharm": {
   "stem_cell": {
    "cell_type": "raw",
    "source": [],
    "metadata": {
     "collapsed": false
    }
   }
  }
 },
 "nbformat": 4,
 "nbformat_minor": 0
}